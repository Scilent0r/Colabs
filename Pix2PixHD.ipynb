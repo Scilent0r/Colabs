{
  "nbformat": 4,
  "nbformat_minor": 0,
  "metadata": {
    "colab": {
      "name": "Pix2PixHD.ipynb",
      "version": "0.3.2",
      "provenance": [],
      "collapsed_sections": [],
      "include_colab_link": true
    },
    "kernelspec": {
      "name": "python3",
      "display_name": "Python 3"
    },
    "accelerator": "GPU"
  },
  "cells": [
    {
      "cell_type": "markdown",
      "metadata": {
        "id": "view-in-github",
        "colab_type": "text"
      },
      "source": [
        "<a href=\"https://colab.research.google.com/github/Scilent0r/Colabs/blob/master/Pix2PixHD.ipynb\" target=\"_parent\"><img src=\"https://colab.research.google.com/assets/colab-badge.svg\" alt=\"Open In Colab\"/></a>"
      ]
    },
    {
      "cell_type": "code",
      "metadata": {
        "id": "6CNudno_NvU7",
        "colab_type": "code",
        "colab": {
          "base_uri": "https://localhost:8080/",
          "height": 50
        },
        "outputId": "01956c55-4b69-429d-ea3d-24ac07d122e5"
      },
      "source": [
        "!pip install dominate\n",
        "\n",
        "!git clone https://github.com/NVIDIA/pix2pixHD"
      ],
      "execution_count": 1,
      "outputs": [
        {
          "output_type": "stream",
          "text": [
            "Requirement already satisfied: dominate in /usr/local/lib/python3.6/dist-packages (2.3.5)\n",
            "fatal: destination path 'pix2pixHD' already exists and is not an empty directory.\n"
          ],
          "name": "stdout"
        }
      ]
    },
    {
      "cell_type": "code",
      "metadata": {
        "id": "nQYdUR0TZn7T",
        "colab_type": "code",
        "colab": {
          "base_uri": "https://localhost:8080/",
          "height": 34
        },
        "outputId": "e69c4a43-f1b1-4869-f346-30cfb37dc2fd"
      },
      "source": [
        "%cd /content/pix2pixHD"
      ],
      "execution_count": 2,
      "outputs": [
        {
          "output_type": "stream",
          "text": [
            "/content/pix2pixHD\n"
          ],
          "name": "stdout"
        }
      ]
    },
    {
      "cell_type": "code",
      "metadata": {
        "id": "er0xcCtxZ7di",
        "colab_type": "code",
        "colab": {
          "base_uri": "https://localhost:8080/",
          "height": 406
        },
        "outputId": "943eb528-acb4-407d-ce43-b3cb5479cb30"
      },
      "source": [
        "!pip install pydrive\n",
        "\n",
        "import os\n",
        "from pydrive.auth import GoogleAuth\n",
        "from pydrive.drive import GoogleDrive\n",
        "from google.colab import auth\n",
        "from oauth2client.client import GoogleCredentials\n",
        "\n",
        "auth.authenticate_user()\n",
        "gauth = GoogleAuth()\n",
        "gauth.credentials = GoogleCredentials.get_application_default()\n",
        "drive = GoogleDrive(gauth)"
      ],
      "execution_count": 3,
      "outputs": [
        {
          "output_type": "stream",
          "text": [
            "Collecting pydrive\n",
            "\u001b[?25l  Downloading https://files.pythonhosted.org/packages/52/e0/0e64788e5dd58ce2d6934549676243dc69d982f198524be9b99e9c2a4fd5/PyDrive-1.3.1.tar.gz (987kB)\n",
            "\r\u001b[K     |▎                               | 10kB 8.2MB/s eta 0:00:01\r\u001b[K     |▋                               | 20kB 8.6MB/s eta 0:00:01\r\u001b[K     |█                               | 30kB 11.9MB/s eta 0:00:01\r\u001b[K     |█▎                              | 40kB 11.6MB/s eta 0:00:01\r\u001b[K     |█▋                              | 51kB 13.8MB/s eta 0:00:01\r\u001b[K     |██                              | 61kB 16.0MB/s eta 0:00:01\r\u001b[K     |██▎                             | 71kB 15.2MB/s eta 0:00:01\r\u001b[K     |██▋                             | 81kB 16.6MB/s eta 0:00:01\r\u001b[K     |███                             | 92kB 18.2MB/s eta 0:00:01\r\u001b[K     |███▎                            | 102kB 17.5MB/s eta 0:00:01\r\u001b[K     |███▋                            | 112kB 17.5MB/s eta 0:00:01\r\u001b[K     |████                            | 122kB 17.5MB/s eta 0:00:01\r\u001b[K     |████▎                           | 133kB 17.5MB/s eta 0:00:01\r\u001b[K     |████▋                           | 143kB 17.5MB/s eta 0:00:01\r\u001b[K     |█████                           | 153kB 17.5MB/s eta 0:00:01\r\u001b[K     |█████▎                          | 163kB 17.5MB/s eta 0:00:01\r\u001b[K     |█████▋                          | 174kB 17.5MB/s eta 0:00:01\r\u001b[K     |██████                          | 184kB 17.5MB/s eta 0:00:01\r\u001b[K     |██████▎                         | 194kB 17.5MB/s eta 0:00:01\r\u001b[K     |██████▋                         | 204kB 17.5MB/s eta 0:00:01\r\u001b[K     |███████                         | 215kB 17.5MB/s eta 0:00:01\r\u001b[K     |███████▎                        | 225kB 17.5MB/s eta 0:00:01\r\u001b[K     |███████▋                        | 235kB 17.5MB/s eta 0:00:01\r\u001b[K     |████████                        | 245kB 17.5MB/s eta 0:00:01\r\u001b[K     |████████▎                       | 256kB 17.5MB/s eta 0:00:01\r\u001b[K     |████████▋                       | 266kB 17.5MB/s eta 0:00:01\r\u001b[K     |█████████                       | 276kB 17.5MB/s eta 0:00:01\r\u001b[K     |█████████▎                      | 286kB 17.5MB/s eta 0:00:01\r\u001b[K     |█████████▋                      | 296kB 17.5MB/s eta 0:00:01\r\u001b[K     |██████████                      | 307kB 17.5MB/s eta 0:00:01\r\u001b[K     |██████████▎                     | 317kB 17.5MB/s eta 0:00:01\r\u001b[K     |██████████▋                     | 327kB 17.5MB/s eta 0:00:01\r\u001b[K     |███████████                     | 337kB 17.5MB/s eta 0:00:01\r\u001b[K     |███████████▎                    | 348kB 17.5MB/s eta 0:00:01\r\u001b[K     |███████████▋                    | 358kB 17.5MB/s eta 0:00:01\r\u001b[K     |████████████                    | 368kB 17.5MB/s eta 0:00:01\r\u001b[K     |████████████▎                   | 378kB 17.5MB/s eta 0:00:01\r\u001b[K     |████████████▋                   | 389kB 17.5MB/s eta 0:00:01\r\u001b[K     |█████████████                   | 399kB 17.5MB/s eta 0:00:01\r\u001b[K     |█████████████▎                  | 409kB 17.5MB/s eta 0:00:01\r\u001b[K     |█████████████▋                  | 419kB 17.5MB/s eta 0:00:01\r\u001b[K     |██████████████                  | 430kB 17.5MB/s eta 0:00:01\r\u001b[K     |██████████████▎                 | 440kB 17.5MB/s eta 0:00:01\r\u001b[K     |██████████████▋                 | 450kB 17.5MB/s eta 0:00:01\r\u001b[K     |███████████████                 | 460kB 17.5MB/s eta 0:00:01\r\u001b[K     |███████████████▎                | 471kB 17.5MB/s eta 0:00:01\r\u001b[K     |███████████████▋                | 481kB 17.5MB/s eta 0:00:01\r\u001b[K     |████████████████                | 491kB 17.5MB/s eta 0:00:01\r\u001b[K     |████████████████▎               | 501kB 17.5MB/s eta 0:00:01\r\u001b[K     |████████████████▋               | 512kB 17.5MB/s eta 0:00:01\r\u001b[K     |█████████████████               | 522kB 17.5MB/s eta 0:00:01\r\u001b[K     |█████████████████▎              | 532kB 17.5MB/s eta 0:00:01\r\u001b[K     |█████████████████▋              | 542kB 17.5MB/s eta 0:00:01\r\u001b[K     |██████████████████              | 552kB 17.5MB/s eta 0:00:01\r\u001b[K     |██████████████████▎             | 563kB 17.5MB/s eta 0:00:01\r\u001b[K     |██████████████████▋             | 573kB 17.5MB/s eta 0:00:01\r\u001b[K     |███████████████████             | 583kB 17.5MB/s eta 0:00:01\r\u001b[K     |███████████████████▎            | 593kB 17.5MB/s eta 0:00:01\r\u001b[K     |███████████████████▋            | 604kB 17.5MB/s eta 0:00:01\r\u001b[K     |████████████████████            | 614kB 17.5MB/s eta 0:00:01\r\u001b[K     |████████████████████▎           | 624kB 17.5MB/s eta 0:00:01\r\u001b[K     |████████████████████▋           | 634kB 17.5MB/s eta 0:00:01\r\u001b[K     |█████████████████████           | 645kB 17.5MB/s eta 0:00:01\r\u001b[K     |█████████████████████▎          | 655kB 17.5MB/s eta 0:00:01\r\u001b[K     |█████████████████████▋          | 665kB 17.5MB/s eta 0:00:01\r\u001b[K     |██████████████████████          | 675kB 17.5MB/s eta 0:00:01\r\u001b[K     |██████████████████████▎         | 686kB 17.5MB/s eta 0:00:01\r\u001b[K     |██████████████████████▋         | 696kB 17.5MB/s eta 0:00:01\r\u001b[K     |███████████████████████         | 706kB 17.5MB/s eta 0:00:01\r\u001b[K     |███████████████████████▎        | 716kB 17.5MB/s eta 0:00:01\r\u001b[K     |███████████████████████▋        | 727kB 17.5MB/s eta 0:00:01\r\u001b[K     |████████████████████████        | 737kB 17.5MB/s eta 0:00:01\r\u001b[K     |████████████████████████▎       | 747kB 17.5MB/s eta 0:00:01\r\u001b[K     |████████████████████████▋       | 757kB 17.5MB/s eta 0:00:01\r\u001b[K     |████████████████████████▉       | 768kB 17.5MB/s eta 0:00:01\r\u001b[K     |█████████████████████████▏      | 778kB 17.5MB/s eta 0:00:01\r\u001b[K     |█████████████████████████▌      | 788kB 17.5MB/s eta 0:00:01\r\u001b[K     |█████████████████████████▉      | 798kB 17.5MB/s eta 0:00:01\r\u001b[K     |██████████████████████████▏     | 808kB 17.5MB/s eta 0:00:01\r\u001b[K     |██████████████████████████▌     | 819kB 17.5MB/s eta 0:00:01\r\u001b[K     |██████████████████████████▉     | 829kB 17.5MB/s eta 0:00:01\r\u001b[K     |███████████████████████████▏    | 839kB 17.5MB/s eta 0:00:01\r\u001b[K     |███████████████████████████▌    | 849kB 17.5MB/s eta 0:00:01\r\u001b[K     |███████████████████████████▉    | 860kB 17.5MB/s eta 0:00:01\r\u001b[K     |████████████████████████████▏   | 870kB 17.5MB/s eta 0:00:01\r\u001b[K     |████████████████████████████▌   | 880kB 17.5MB/s eta 0:00:01\r\u001b[K     |████████████████████████████▉   | 890kB 17.5MB/s eta 0:00:01\r\u001b[K     |█████████████████████████████▏  | 901kB 17.5MB/s eta 0:00:01\r\u001b[K     |█████████████████████████████▌  | 911kB 17.5MB/s eta 0:00:01\r\u001b[K     |█████████████████████████████▉  | 921kB 17.5MB/s eta 0:00:01\r\u001b[K     |██████████████████████████████▏ | 931kB 17.5MB/s eta 0:00:01\r\u001b[K     |██████████████████████████████▌ | 942kB 17.5MB/s eta 0:00:01\r\u001b[K     |██████████████████████████████▉ | 952kB 17.5MB/s eta 0:00:01\r\u001b[K     |███████████████████████████████▏| 962kB 17.5MB/s eta 0:00:01\r\u001b[K     |███████████████████████████████▌| 972kB 17.5MB/s eta 0:00:01\r\u001b[K     |███████████████████████████████▉| 983kB 17.5MB/s eta 0:00:01\r\u001b[K     |████████████████████████████████| 993kB 17.5MB/s \n",
            "\u001b[?25hRequirement already satisfied: google-api-python-client>=1.2 in /usr/local/lib/python3.6/dist-packages (from pydrive) (1.7.9)\n",
            "Requirement already satisfied: oauth2client>=4.0.0 in /usr/local/lib/python3.6/dist-packages (from pydrive) (4.1.3)\n",
            "Requirement already satisfied: PyYAML>=3.0 in /usr/local/lib/python3.6/dist-packages (from pydrive) (3.13)\n",
            "Requirement already satisfied: six<2dev,>=1.6.1 in /usr/local/lib/python3.6/dist-packages (from google-api-python-client>=1.2->pydrive) (1.12.0)\n",
            "Requirement already satisfied: google-auth>=1.4.1 in /usr/local/lib/python3.6/dist-packages (from google-api-python-client>=1.2->pydrive) (1.4.2)\n",
            "Requirement already satisfied: uritemplate<4dev,>=3.0.0 in /usr/local/lib/python3.6/dist-packages (from google-api-python-client>=1.2->pydrive) (3.0.0)\n",
            "Requirement already satisfied: httplib2<1dev,>=0.9.2 in /usr/local/lib/python3.6/dist-packages (from google-api-python-client>=1.2->pydrive) (0.11.3)\n",
            "Requirement already satisfied: google-auth-httplib2>=0.0.3 in /usr/local/lib/python3.6/dist-packages (from google-api-python-client>=1.2->pydrive) (0.0.3)\n",
            "Requirement already satisfied: rsa>=3.1.4 in /usr/local/lib/python3.6/dist-packages (from oauth2client>=4.0.0->pydrive) (4.0)\n",
            "Requirement already satisfied: pyasn1-modules>=0.0.5 in /usr/local/lib/python3.6/dist-packages (from oauth2client>=4.0.0->pydrive) (0.2.5)\n",
            "Requirement already satisfied: pyasn1>=0.1.7 in /usr/local/lib/python3.6/dist-packages (from oauth2client>=4.0.0->pydrive) (0.4.5)\n",
            "Requirement already satisfied: cachetools>=2.0.0 in /usr/local/lib/python3.6/dist-packages (from google-auth>=1.4.1->google-api-python-client>=1.2->pydrive) (3.1.1)\n",
            "Building wheels for collected packages: pydrive\n",
            "  Building wheel for pydrive (setup.py) ... \u001b[?25l\u001b[?25hdone\n",
            "  Created wheel for pydrive: filename=PyDrive-1.3.1-cp36-none-any.whl size=27435 sha256=7fa4015b5d7b6b389535ee9c0cb32dae8e0feb48b90c16e4c98805882ed3a69f\n",
            "  Stored in directory: /root/.cache/pip/wheels/fa/d2/9a/d3b6b506c2da98289e5d417215ce34b696db856643bad779f4\n",
            "Successfully built pydrive\n",
            "Installing collected packages: pydrive\n",
            "Successfully installed pydrive-1.3.1\n"
          ],
          "name": "stdout"
        }
      ]
    },
    {
      "cell_type": "markdown",
      "metadata": {
        "id": "m9_7ZNtNfkXw",
        "colab_type": "text"
      },
      "source": [
        "Copy [this](https://drive.google.com/file/d/1h9SykUnuZul7J3Nbms2QGH1wa85nbN2-/view?usp=sharing)  to your own drive and replace file-ID to match yours"
      ]
    },
    {
      "cell_type": "code",
      "metadata": {
        "id": "_VbfWHYpbHiX",
        "colab_type": "code",
        "colab": {}
      },
      "source": [
        "download = drive.CreateFile({'id': '1h9SykUnuZul7J3Nbms2QGH1wa85nbN2-'})\n",
        "download.GetContentFile('latest_net_G.pth')"
      ],
      "execution_count": 0,
      "outputs": []
    },
    {
      "cell_type": "code",
      "metadata": {
        "id": "CCqkpKqCdae_",
        "colab_type": "code",
        "colab": {
          "base_uri": "https://localhost:8080/",
          "height": 34
        },
        "outputId": "477b5726-885b-4695-9f7b-ae887dd6a5a0"
      },
      "source": [
        "!mv /content/pix2pixHD/latest_net_G.pth /content/pix2pixHD/checkpoints/label2city_1024p\n",
        "!ls /content/pix2pixHD/checkpoints/label2city_1024p"
      ],
      "execution_count": 9,
      "outputs": [
        {
          "output_type": "stream",
          "text": [
            "latest_net_G.pth  loss_log.txt\n"
          ],
          "name": "stdout"
        }
      ]
    },
    {
      "cell_type": "code",
      "metadata": {
        "id": "N4UuaArWbHnK",
        "colab_type": "code",
        "colab": {
          "base_uri": "https://localhost:8080/",
          "height": 1000
        },
        "outputId": "907c1c94-48e9-414b-a167-4ecce0833fa7"
      },
      "source": [
        "!python test.py --name label2city_1024p --netG local --ngf 32 --resize_or_crop none"
      ],
      "execution_count": 13,
      "outputs": [
        {
          "output_type": "stream",
          "text": [
            "------------ Options -------------\n",
            "aspect_ratio: 1.0\n",
            "batchSize: 1\n",
            "checkpoints_dir: ./checkpoints\n",
            "cluster_path: features_clustered_010.npy\n",
            "data_type: 32\n",
            "dataroot: ./datasets/cityscapes/\n",
            "display_winsize: 512\n",
            "engine: None\n",
            "export_onnx: None\n",
            "feat_num: 3\n",
            "fineSize: 512\n",
            "fp16: False\n",
            "gpu_ids: [0]\n",
            "how_many: 50\n",
            "input_nc: 3\n",
            "instance_feat: False\n",
            "isTrain: False\n",
            "label_feat: False\n",
            "label_nc: 35\n",
            "loadSize: 1024\n",
            "load_features: False\n",
            "local_rank: 0\n",
            "max_dataset_size: inf\n",
            "model: pix2pixHD\n",
            "nThreads: 2\n",
            "n_blocks_global: 9\n",
            "n_blocks_local: 3\n",
            "n_clusters: 10\n",
            "n_downsample_E: 4\n",
            "n_downsample_global: 4\n",
            "n_local_enhancers: 1\n",
            "name: label2city_1024p\n",
            "nef: 16\n",
            "netG: local\n",
            "ngf: 32\n",
            "niter_fix_global: 0\n",
            "no_flip: False\n",
            "no_instance: False\n",
            "norm: instance\n",
            "ntest: inf\n",
            "onnx: None\n",
            "output_nc: 3\n",
            "phase: test\n",
            "resize_or_crop: none\n",
            "results_dir: ./results/\n",
            "serial_batches: False\n",
            "tf_log: False\n",
            "use_dropout: False\n",
            "use_encoded_image: False\n",
            "verbose: False\n",
            "which_epoch: latest\n",
            "-------------- End ----------------\n",
            "CustomDatasetDataLoader\n",
            "dataset [AlignedDataset] was created\n",
            "LocalEnhancer(\n",
            "  (model): Sequential(\n",
            "    (0): ReflectionPad2d((3, 3, 3, 3))\n",
            "    (1): Conv2d(36, 64, kernel_size=(7, 7), stride=(1, 1))\n",
            "    (2): InstanceNorm2d(64, eps=1e-05, momentum=0.1, affine=False, track_running_stats=False)\n",
            "    (3): ReLU(inplace)\n",
            "    (4): Conv2d(64, 128, kernel_size=(3, 3), stride=(2, 2), padding=(1, 1))\n",
            "    (5): InstanceNorm2d(128, eps=1e-05, momentum=0.1, affine=False, track_running_stats=False)\n",
            "    (6): ReLU(inplace)\n",
            "    (7): Conv2d(128, 256, kernel_size=(3, 3), stride=(2, 2), padding=(1, 1))\n",
            "    (8): InstanceNorm2d(256, eps=1e-05, momentum=0.1, affine=False, track_running_stats=False)\n",
            "    (9): ReLU(inplace)\n",
            "    (10): Conv2d(256, 512, kernel_size=(3, 3), stride=(2, 2), padding=(1, 1))\n",
            "    (11): InstanceNorm2d(512, eps=1e-05, momentum=0.1, affine=False, track_running_stats=False)\n",
            "    (12): ReLU(inplace)\n",
            "    (13): Conv2d(512, 1024, kernel_size=(3, 3), stride=(2, 2), padding=(1, 1))\n",
            "    (14): InstanceNorm2d(1024, eps=1e-05, momentum=0.1, affine=False, track_running_stats=False)\n",
            "    (15): ReLU(inplace)\n",
            "    (16): ResnetBlock(\n",
            "      (conv_block): Sequential(\n",
            "        (0): ReflectionPad2d((1, 1, 1, 1))\n",
            "        (1): Conv2d(1024, 1024, kernel_size=(3, 3), stride=(1, 1))\n",
            "        (2): InstanceNorm2d(1024, eps=1e-05, momentum=0.1, affine=False, track_running_stats=False)\n",
            "        (3): ReLU(inplace)\n",
            "        (4): ReflectionPad2d((1, 1, 1, 1))\n",
            "        (5): Conv2d(1024, 1024, kernel_size=(3, 3), stride=(1, 1))\n",
            "        (6): InstanceNorm2d(1024, eps=1e-05, momentum=0.1, affine=False, track_running_stats=False)\n",
            "      )\n",
            "    )\n",
            "    (17): ResnetBlock(\n",
            "      (conv_block): Sequential(\n",
            "        (0): ReflectionPad2d((1, 1, 1, 1))\n",
            "        (1): Conv2d(1024, 1024, kernel_size=(3, 3), stride=(1, 1))\n",
            "        (2): InstanceNorm2d(1024, eps=1e-05, momentum=0.1, affine=False, track_running_stats=False)\n",
            "        (3): ReLU(inplace)\n",
            "        (4): ReflectionPad2d((1, 1, 1, 1))\n",
            "        (5): Conv2d(1024, 1024, kernel_size=(3, 3), stride=(1, 1))\n",
            "        (6): InstanceNorm2d(1024, eps=1e-05, momentum=0.1, affine=False, track_running_stats=False)\n",
            "      )\n",
            "    )\n",
            "    (18): ResnetBlock(\n",
            "      (conv_block): Sequential(\n",
            "        (0): ReflectionPad2d((1, 1, 1, 1))\n",
            "        (1): Conv2d(1024, 1024, kernel_size=(3, 3), stride=(1, 1))\n",
            "        (2): InstanceNorm2d(1024, eps=1e-05, momentum=0.1, affine=False, track_running_stats=False)\n",
            "        (3): ReLU(inplace)\n",
            "        (4): ReflectionPad2d((1, 1, 1, 1))\n",
            "        (5): Conv2d(1024, 1024, kernel_size=(3, 3), stride=(1, 1))\n",
            "        (6): InstanceNorm2d(1024, eps=1e-05, momentum=0.1, affine=False, track_running_stats=False)\n",
            "      )\n",
            "    )\n",
            "    (19): ResnetBlock(\n",
            "      (conv_block): Sequential(\n",
            "        (0): ReflectionPad2d((1, 1, 1, 1))\n",
            "        (1): Conv2d(1024, 1024, kernel_size=(3, 3), stride=(1, 1))\n",
            "        (2): InstanceNorm2d(1024, eps=1e-05, momentum=0.1, affine=False, track_running_stats=False)\n",
            "        (3): ReLU(inplace)\n",
            "        (4): ReflectionPad2d((1, 1, 1, 1))\n",
            "        (5): Conv2d(1024, 1024, kernel_size=(3, 3), stride=(1, 1))\n",
            "        (6): InstanceNorm2d(1024, eps=1e-05, momentum=0.1, affine=False, track_running_stats=False)\n",
            "      )\n",
            "    )\n",
            "    (20): ResnetBlock(\n",
            "      (conv_block): Sequential(\n",
            "        (0): ReflectionPad2d((1, 1, 1, 1))\n",
            "        (1): Conv2d(1024, 1024, kernel_size=(3, 3), stride=(1, 1))\n",
            "        (2): InstanceNorm2d(1024, eps=1e-05, momentum=0.1, affine=False, track_running_stats=False)\n",
            "        (3): ReLU(inplace)\n",
            "        (4): ReflectionPad2d((1, 1, 1, 1))\n",
            "        (5): Conv2d(1024, 1024, kernel_size=(3, 3), stride=(1, 1))\n",
            "        (6): InstanceNorm2d(1024, eps=1e-05, momentum=0.1, affine=False, track_running_stats=False)\n",
            "      )\n",
            "    )\n",
            "    (21): ResnetBlock(\n",
            "      (conv_block): Sequential(\n",
            "        (0): ReflectionPad2d((1, 1, 1, 1))\n",
            "        (1): Conv2d(1024, 1024, kernel_size=(3, 3), stride=(1, 1))\n",
            "        (2): InstanceNorm2d(1024, eps=1e-05, momentum=0.1, affine=False, track_running_stats=False)\n",
            "        (3): ReLU(inplace)\n",
            "        (4): ReflectionPad2d((1, 1, 1, 1))\n",
            "        (5): Conv2d(1024, 1024, kernel_size=(3, 3), stride=(1, 1))\n",
            "        (6): InstanceNorm2d(1024, eps=1e-05, momentum=0.1, affine=False, track_running_stats=False)\n",
            "      )\n",
            "    )\n",
            "    (22): ResnetBlock(\n",
            "      (conv_block): Sequential(\n",
            "        (0): ReflectionPad2d((1, 1, 1, 1))\n",
            "        (1): Conv2d(1024, 1024, kernel_size=(3, 3), stride=(1, 1))\n",
            "        (2): InstanceNorm2d(1024, eps=1e-05, momentum=0.1, affine=False, track_running_stats=False)\n",
            "        (3): ReLU(inplace)\n",
            "        (4): ReflectionPad2d((1, 1, 1, 1))\n",
            "        (5): Conv2d(1024, 1024, kernel_size=(3, 3), stride=(1, 1))\n",
            "        (6): InstanceNorm2d(1024, eps=1e-05, momentum=0.1, affine=False, track_running_stats=False)\n",
            "      )\n",
            "    )\n",
            "    (23): ResnetBlock(\n",
            "      (conv_block): Sequential(\n",
            "        (0): ReflectionPad2d((1, 1, 1, 1))\n",
            "        (1): Conv2d(1024, 1024, kernel_size=(3, 3), stride=(1, 1))\n",
            "        (2): InstanceNorm2d(1024, eps=1e-05, momentum=0.1, affine=False, track_running_stats=False)\n",
            "        (3): ReLU(inplace)\n",
            "        (4): ReflectionPad2d((1, 1, 1, 1))\n",
            "        (5): Conv2d(1024, 1024, kernel_size=(3, 3), stride=(1, 1))\n",
            "        (6): InstanceNorm2d(1024, eps=1e-05, momentum=0.1, affine=False, track_running_stats=False)\n",
            "      )\n",
            "    )\n",
            "    (24): ResnetBlock(\n",
            "      (conv_block): Sequential(\n",
            "        (0): ReflectionPad2d((1, 1, 1, 1))\n",
            "        (1): Conv2d(1024, 1024, kernel_size=(3, 3), stride=(1, 1))\n",
            "        (2): InstanceNorm2d(1024, eps=1e-05, momentum=0.1, affine=False, track_running_stats=False)\n",
            "        (3): ReLU(inplace)\n",
            "        (4): ReflectionPad2d((1, 1, 1, 1))\n",
            "        (5): Conv2d(1024, 1024, kernel_size=(3, 3), stride=(1, 1))\n",
            "        (6): InstanceNorm2d(1024, eps=1e-05, momentum=0.1, affine=False, track_running_stats=False)\n",
            "      )\n",
            "    )\n",
            "    (25): ConvTranspose2d(1024, 512, kernel_size=(3, 3), stride=(2, 2), padding=(1, 1), output_padding=(1, 1))\n",
            "    (26): InstanceNorm2d(512, eps=1e-05, momentum=0.1, affine=False, track_running_stats=False)\n",
            "    (27): ReLU(inplace)\n",
            "    (28): ConvTranspose2d(512, 256, kernel_size=(3, 3), stride=(2, 2), padding=(1, 1), output_padding=(1, 1))\n",
            "    (29): InstanceNorm2d(256, eps=1e-05, momentum=0.1, affine=False, track_running_stats=False)\n",
            "    (30): ReLU(inplace)\n",
            "    (31): ConvTranspose2d(256, 128, kernel_size=(3, 3), stride=(2, 2), padding=(1, 1), output_padding=(1, 1))\n",
            "    (32): InstanceNorm2d(128, eps=1e-05, momentum=0.1, affine=False, track_running_stats=False)\n",
            "    (33): ReLU(inplace)\n",
            "    (34): ConvTranspose2d(128, 64, kernel_size=(3, 3), stride=(2, 2), padding=(1, 1), output_padding=(1, 1))\n",
            "    (35): InstanceNorm2d(64, eps=1e-05, momentum=0.1, affine=False, track_running_stats=False)\n",
            "    (36): ReLU(inplace)\n",
            "  )\n",
            "  (model1_1): Sequential(\n",
            "    (0): ReflectionPad2d((3, 3, 3, 3))\n",
            "    (1): Conv2d(36, 32, kernel_size=(7, 7), stride=(1, 1))\n",
            "    (2): InstanceNorm2d(32, eps=1e-05, momentum=0.1, affine=False, track_running_stats=False)\n",
            "    (3): ReLU(inplace)\n",
            "    (4): Conv2d(32, 64, kernel_size=(3, 3), stride=(2, 2), padding=(1, 1))\n",
            "    (5): InstanceNorm2d(64, eps=1e-05, momentum=0.1, affine=False, track_running_stats=False)\n",
            "    (6): ReLU(inplace)\n",
            "  )\n",
            "  (model1_2): Sequential(\n",
            "    (0): ResnetBlock(\n",
            "      (conv_block): Sequential(\n",
            "        (0): ReflectionPad2d((1, 1, 1, 1))\n",
            "        (1): Conv2d(64, 64, kernel_size=(3, 3), stride=(1, 1))\n",
            "        (2): InstanceNorm2d(64, eps=1e-05, momentum=0.1, affine=False, track_running_stats=False)\n",
            "        (3): ReLU(inplace)\n",
            "        (4): ReflectionPad2d((1, 1, 1, 1))\n",
            "        (5): Conv2d(64, 64, kernel_size=(3, 3), stride=(1, 1))\n",
            "        (6): InstanceNorm2d(64, eps=1e-05, momentum=0.1, affine=False, track_running_stats=False)\n",
            "      )\n",
            "    )\n",
            "    (1): ResnetBlock(\n",
            "      (conv_block): Sequential(\n",
            "        (0): ReflectionPad2d((1, 1, 1, 1))\n",
            "        (1): Conv2d(64, 64, kernel_size=(3, 3), stride=(1, 1))\n",
            "        (2): InstanceNorm2d(64, eps=1e-05, momentum=0.1, affine=False, track_running_stats=False)\n",
            "        (3): ReLU(inplace)\n",
            "        (4): ReflectionPad2d((1, 1, 1, 1))\n",
            "        (5): Conv2d(64, 64, kernel_size=(3, 3), stride=(1, 1))\n",
            "        (6): InstanceNorm2d(64, eps=1e-05, momentum=0.1, affine=False, track_running_stats=False)\n",
            "      )\n",
            "    )\n",
            "    (2): ResnetBlock(\n",
            "      (conv_block): Sequential(\n",
            "        (0): ReflectionPad2d((1, 1, 1, 1))\n",
            "        (1): Conv2d(64, 64, kernel_size=(3, 3), stride=(1, 1))\n",
            "        (2): InstanceNorm2d(64, eps=1e-05, momentum=0.1, affine=False, track_running_stats=False)\n",
            "        (3): ReLU(inplace)\n",
            "        (4): ReflectionPad2d((1, 1, 1, 1))\n",
            "        (5): Conv2d(64, 64, kernel_size=(3, 3), stride=(1, 1))\n",
            "        (6): InstanceNorm2d(64, eps=1e-05, momentum=0.1, affine=False, track_running_stats=False)\n",
            "      )\n",
            "    )\n",
            "    (3): ConvTranspose2d(64, 32, kernel_size=(3, 3), stride=(2, 2), padding=(1, 1), output_padding=(1, 1))\n",
            "    (4): InstanceNorm2d(32, eps=1e-05, momentum=0.1, affine=False, track_running_stats=False)\n",
            "    (5): ReLU(inplace)\n",
            "    (6): ReflectionPad2d((3, 3, 3, 3))\n",
            "    (7): Conv2d(32, 3, kernel_size=(7, 7), stride=(1, 1))\n",
            "    (8): Tanh()\n",
            "  )\n",
            "  (downsample): AvgPool2d(kernel_size=3, stride=2, padding=[1, 1])\n",
            ")\n",
            "/content/pix2pixHD/models/pix2pixHD_model.py:128: UserWarning: volatile was removed and now has no effect. Use `with torch.no_grad():` instead.\n",
            "  input_label = Variable(input_label, volatile=infer)\n",
            "process image... ['./datasets/cityscapes/test_label/frankfurt_000000_000576_gtFine_labelIds.png']\n",
            "process image... ['./datasets/cityscapes/test_label/frankfurt_000000_001236_gtFine_labelIds.png']\n",
            "process image... ['./datasets/cityscapes/test_label/frankfurt_000000_003357_gtFine_labelIds.png']\n",
            "process image... ['./datasets/cityscapes/test_label/frankfurt_000000_011810_gtFine_labelIds.png']\n",
            "process image... ['./datasets/cityscapes/test_label/frankfurt_000000_012868_gtFine_labelIds.png']\n",
            "process image... ['./datasets/cityscapes/test_label/frankfurt_000001_013710_gtFine_labelIds.png']\n",
            "process image... ['./datasets/cityscapes/test_label/frankfurt_000001_015328_gtFine_labelIds.png']\n",
            "process image... ['./datasets/cityscapes/test_label/frankfurt_000001_023769_gtFine_labelIds.png']\n",
            "process image... ['./datasets/cityscapes/test_label/frankfurt_000001_028335_gtFine_labelIds.png']\n",
            "process image... ['./datasets/cityscapes/test_label/frankfurt_000001_032711_gtFine_labelIds.png']\n",
            "process image... ['./datasets/cityscapes/test_label/frankfurt_000001_033655_gtFine_labelIds.png']\n",
            "process image... ['./datasets/cityscapes/test_label/frankfurt_000001_042733_gtFine_labelIds.png']\n",
            "process image... ['./datasets/cityscapes/test_label/frankfurt_000001_047552_gtFine_labelIds.png']\n",
            "process image... ['./datasets/cityscapes/test_label/frankfurt_000001_054640_gtFine_labelIds.png']\n",
            "process image... ['./datasets/cityscapes/test_label/frankfurt_000001_055387_gtFine_labelIds.png']\n"
          ],
          "name": "stdout"
        }
      ]
    },
    {
      "cell_type": "code",
      "metadata": {
        "id": "jFfIfsJMeOsI",
        "colab_type": "code",
        "colab": {
          "base_uri": "https://localhost:8080/",
          "height": 521
        },
        "outputId": "4ef261ec-1486-4f84-aa1f-45143d617745"
      },
      "source": [
        "!ls /content/pix2pixHD/results/label2city_1024p/test_latest/images"
      ],
      "execution_count": 14,
      "outputs": [
        {
          "output_type": "stream",
          "text": [
            "frankfurt_000000_000576_gtFine_labelIds_input_label.jpg\n",
            "frankfurt_000000_000576_gtFine_labelIds_synthesized_image.jpg\n",
            "frankfurt_000000_001236_gtFine_labelIds_input_label.jpg\n",
            "frankfurt_000000_001236_gtFine_labelIds_synthesized_image.jpg\n",
            "frankfurt_000000_003357_gtFine_labelIds_input_label.jpg\n",
            "frankfurt_000000_003357_gtFine_labelIds_synthesized_image.jpg\n",
            "frankfurt_000000_011810_gtFine_labelIds_input_label.jpg\n",
            "frankfurt_000000_011810_gtFine_labelIds_synthesized_image.jpg\n",
            "frankfurt_000000_012868_gtFine_labelIds_input_label.jpg\n",
            "frankfurt_000000_012868_gtFine_labelIds_synthesized_image.jpg\n",
            "frankfurt_000001_013710_gtFine_labelIds_input_label.jpg\n",
            "frankfurt_000001_013710_gtFine_labelIds_synthesized_image.jpg\n",
            "frankfurt_000001_015328_gtFine_labelIds_input_label.jpg\n",
            "frankfurt_000001_015328_gtFine_labelIds_synthesized_image.jpg\n",
            "frankfurt_000001_023769_gtFine_labelIds_input_label.jpg\n",
            "frankfurt_000001_023769_gtFine_labelIds_synthesized_image.jpg\n",
            "frankfurt_000001_028335_gtFine_labelIds_input_label.jpg\n",
            "frankfurt_000001_028335_gtFine_labelIds_synthesized_image.jpg\n",
            "frankfurt_000001_032711_gtFine_labelIds_input_label.jpg\n",
            "frankfurt_000001_032711_gtFine_labelIds_synthesized_image.jpg\n",
            "frankfurt_000001_033655_gtFine_labelIds_input_label.jpg\n",
            "frankfurt_000001_033655_gtFine_labelIds_synthesized_image.jpg\n",
            "frankfurt_000001_042733_gtFine_labelIds_input_label.jpg\n",
            "frankfurt_000001_042733_gtFine_labelIds_synthesized_image.jpg\n",
            "frankfurt_000001_047552_gtFine_labelIds_input_label.jpg\n",
            "frankfurt_000001_047552_gtFine_labelIds_synthesized_image.jpg\n",
            "frankfurt_000001_054640_gtFine_labelIds_input_label.jpg\n",
            "frankfurt_000001_054640_gtFine_labelIds_synthesized_image.jpg\n",
            "frankfurt_000001_055387_gtFine_labelIds_input_label.jpg\n",
            "frankfurt_000001_055387_gtFine_labelIds_synthesized_image.jpg\n"
          ],
          "name": "stdout"
        }
      ]
    },
    {
      "cell_type": "code",
      "metadata": {
        "id": "0AfBWVtheOut",
        "colab_type": "code",
        "colab": {}
      },
      "source": [
        ""
      ],
      "execution_count": 0,
      "outputs": []
    }
  ]
}