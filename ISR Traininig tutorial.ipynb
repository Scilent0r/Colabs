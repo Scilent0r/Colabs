{
 "cells": [
  {
   "cell_type": "markdown",
   "metadata": {
    "colab_type": "text",
    "id": "aKupRkaAHBRW"
   },
   "source": [
    "[![Google Colab](https://colab.research.google.com/assets/colab-badge.svg)](https://colab.research.google.com/github/idealo/image-super-resolution/blob/master/notebooks/ISR_Training_Tutorial.ipynb)"
   ]
  },
  {
   "cell_type": "markdown",
   "metadata": {
    "colab_type": "text",
    "id": "QJ4sSTzDWAao"
   },
   "source": [
    "# Install ISR"
   ]
  },
  {
   "cell_type": "code",
   "execution_count": 1,
   "metadata": {
    "colab": {
     "base_uri": "https://localhost:8080/",
     "height": 992
    },
    "colab_type": "code",
    "executionInfo": {
     "elapsed": 51791,
     "status": "ok",
     "timestamp": 1564393421449,
     "user": {
      "displayName": "Daniel Racero Saarnisuo",
      "photoUrl": "",
      "userId": "07486088927151244582"
     },
     "user_tz": -180
    },
    "id": "KCd2ZuS4V6Z0",
    "outputId": "0f3bbb5d-f459-4a9f-d45f-ec5882816be7"
   },
   "outputs": [
    {
     "name": "stdout",
     "output_type": "stream",
     "text": [
      "Collecting ISR\n",
      "  Downloading https://files.pythonhosted.org/packages/d6/c3/7e6d659870e9a2a5f5a529ecc3f71f6387ee41aa5c486fc9f023f6cdea1f/ISR-2.1-py3-none-any.whl\n",
      "Requirement already satisfied: tqdm in /usr/local/lib/python3.6/dist-packages (from ISR) (4.28.1)\n",
      "Collecting tensorflow==1.13.1 (from ISR)\n",
      "\u001b[?25l  Downloading https://files.pythonhosted.org/packages/77/63/a9fa76de8dffe7455304c4ed635be4aa9c0bacef6e0633d87d5f54530c5c/tensorflow-1.13.1-cp36-cp36m-manylinux1_x86_64.whl (92.5MB)\n",
      "\u001b[K     |████████████████████████████████| 92.5MB 1.2MB/s \n",
      "\u001b[?25hRequirement already satisfied: imageio in /usr/local/lib/python3.6/dist-packages (from ISR) (2.4.1)\n",
      "Requirement already satisfied: Keras==2.2.4 in /usr/local/lib/python3.6/dist-packages (from ISR) (2.2.4)\n",
      "Collecting numpy==1.16.2 (from ISR)\n",
      "\u001b[?25l  Downloading https://files.pythonhosted.org/packages/35/d5/4f8410ac303e690144f0a0603c4b8fd3b986feb2749c435f7cdbb288f17e/numpy-1.16.2-cp36-cp36m-manylinux1_x86_64.whl (17.3MB)\n",
      "\u001b[K     |████████████████████████████████| 17.3MB 39.8MB/s \n",
      "\u001b[?25hRequirement already satisfied: gast>=0.2.0 in /usr/local/lib/python3.6/dist-packages (from tensorflow==1.13.1->ISR) (0.2.2)\n",
      "Requirement already satisfied: protobuf>=3.6.1 in /usr/local/lib/python3.6/dist-packages (from tensorflow==1.13.1->ISR) (3.7.1)\n",
      "Collecting tensorboard<1.14.0,>=1.13.0 (from tensorflow==1.13.1->ISR)\n",
      "\u001b[?25l  Downloading https://files.pythonhosted.org/packages/0f/39/bdd75b08a6fba41f098b6cb091b9e8c7a80e1b4d679a581a0ccd17b10373/tensorboard-1.13.1-py3-none-any.whl (3.2MB)\n",
      "\u001b[K     |████████████████████████████████| 3.2MB 34.2MB/s \n",
      "\u001b[?25hCollecting tensorflow-estimator<1.14.0rc0,>=1.13.0 (from tensorflow==1.13.1->ISR)\n",
      "\u001b[?25l  Downloading https://files.pythonhosted.org/packages/bb/48/13f49fc3fa0fdf916aa1419013bb8f2ad09674c275b4046d5ee669a46873/tensorflow_estimator-1.13.0-py2.py3-none-any.whl (367kB)\n",
      "\u001b[K     |████████████████████████████████| 368kB 44.9MB/s \n",
      "\u001b[?25hRequirement already satisfied: termcolor>=1.1.0 in /usr/local/lib/python3.6/dist-packages (from tensorflow==1.13.1->ISR) (1.1.0)\n",
      "Requirement already satisfied: grpcio>=1.8.6 in /usr/local/lib/python3.6/dist-packages (from tensorflow==1.13.1->ISR) (1.15.0)\n",
      "Requirement already satisfied: astor>=0.6.0 in /usr/local/lib/python3.6/dist-packages (from tensorflow==1.13.1->ISR) (0.8.0)\n",
      "Requirement already satisfied: absl-py>=0.1.6 in /usr/local/lib/python3.6/dist-packages (from tensorflow==1.13.1->ISR) (0.7.1)\n",
      "Requirement already satisfied: six>=1.10.0 in /usr/local/lib/python3.6/dist-packages (from tensorflow==1.13.1->ISR) (1.12.0)\n",
      "Requirement already satisfied: keras-applications>=1.0.6 in /usr/local/lib/python3.6/dist-packages (from tensorflow==1.13.1->ISR) (1.0.8)\n",
      "Requirement already satisfied: wheel>=0.26 in /usr/local/lib/python3.6/dist-packages (from tensorflow==1.13.1->ISR) (0.33.4)\n",
      "Requirement already satisfied: keras-preprocessing>=1.0.5 in /usr/local/lib/python3.6/dist-packages (from tensorflow==1.13.1->ISR) (1.1.0)\n",
      "Requirement already satisfied: pillow in /usr/local/lib/python3.6/dist-packages (from imageio->ISR) (4.3.0)\n",
      "Requirement already satisfied: h5py in /usr/local/lib/python3.6/dist-packages (from Keras==2.2.4->ISR) (2.8.0)\n",
      "Requirement already satisfied: scipy>=0.14 in /usr/local/lib/python3.6/dist-packages (from Keras==2.2.4->ISR) (1.3.0)\n",
      "Requirement already satisfied: pyyaml in /usr/local/lib/python3.6/dist-packages (from Keras==2.2.4->ISR) (3.13)\n",
      "Requirement already satisfied: setuptools in /usr/local/lib/python3.6/dist-packages (from protobuf>=3.6.1->tensorflow==1.13.1->ISR) (41.0.1)\n",
      "Requirement already satisfied: markdown>=2.6.8 in /usr/local/lib/python3.6/dist-packages (from tensorboard<1.14.0,>=1.13.0->tensorflow==1.13.1->ISR) (3.1.1)\n",
      "Requirement already satisfied: werkzeug>=0.11.15 in /usr/local/lib/python3.6/dist-packages (from tensorboard<1.14.0,>=1.13.0->tensorflow==1.13.1->ISR) (0.15.5)\n",
      "Collecting mock>=2.0.0 (from tensorflow-estimator<1.14.0rc0,>=1.13.0->tensorflow==1.13.1->ISR)\n",
      "  Downloading https://files.pythonhosted.org/packages/05/d2/f94e68be6b17f46d2c353564da56e6fb89ef09faeeff3313a046cb810ca9/mock-3.0.5-py2.py3-none-any.whl\n",
      "Requirement already satisfied: olefile in /usr/local/lib/python3.6/dist-packages (from pillow->imageio->ISR) (0.46)\n",
      "\u001b[31mERROR: datascience 0.10.6 has requirement folium==0.2.1, but you'll have folium 0.8.3 which is incompatible.\u001b[0m\n",
      "\u001b[31mERROR: albumentations 0.1.12 has requirement imgaug<0.2.7,>=0.2.5, but you'll have imgaug 0.2.9 which is incompatible.\u001b[0m\n",
      "Installing collected packages: numpy, tensorboard, mock, tensorflow-estimator, tensorflow, ISR\n",
      "  Found existing installation: numpy 1.16.4\n",
      "    Uninstalling numpy-1.16.4:\n",
      "      Successfully uninstalled numpy-1.16.4\n",
      "  Found existing installation: tensorboard 1.14.0\n",
      "    Uninstalling tensorboard-1.14.0:\n",
      "      Successfully uninstalled tensorboard-1.14.0\n",
      "  Found existing installation: tensorflow-estimator 1.14.0\n",
      "    Uninstalling tensorflow-estimator-1.14.0:\n",
      "      Successfully uninstalled tensorflow-estimator-1.14.0\n",
      "  Found existing installation: tensorflow 1.14.0\n",
      "    Uninstalling tensorflow-1.14.0:\n",
      "      Successfully uninstalled tensorflow-1.14.0\n",
      "Successfully installed ISR-2.1 mock-3.0.5 numpy-1.16.2 tensorboard-1.13.1 tensorflow-1.13.1 tensorflow-estimator-1.13.0\n"
     ]
    },
    {
     "data": {
      "application/vnd.colab-display-data+json": {
       "pip_warning": {
        "packages": [
         "numpy"
        ]
       }
      }
     },
     "metadata": {
      "tags": []
     },
     "output_type": "display_data"
    }
   ],
   "source": [
    "!pip install ISR"
   ]
  },
  {
   "cell_type": "markdown",
   "metadata": {
    "colab_type": "text",
    "id": "R_BXVVxnN1sx"
   },
   "source": [
    "# Train"
   ]
  },
  {
   "cell_type": "markdown",
   "metadata": {
    "colab_type": "text",
    "id": "aJCKjYk-MA-p"
   },
   "source": [
    "\n",
    "## Get the training data\n",
    "Get your data to train the model. The div2k dataset linked here is for a scaling factor of 2. Beware of this later when training the model.\n",
    "\n",
    "(for more options on how to get you data on Colab notebooks visit https://colab.research.google.com/notebooks/io.ipynb)"
   ]
  },
  {
   "cell_type": "code",
   "execution_count": 0,
   "metadata": {
    "colab": {
     "base_uri": "https://localhost:8080/",
     "height": 735
    },
    "colab_type": "code",
    "id": "ytGnfdDo77l-",
    "outputId": "9b3e83ec-ee18-4aa2-9b58-90128d2ce07f"
   },
   "outputs": [
    {
     "name": "stdout",
     "output_type": "stream",
     "text": [
      "--2019-07-29 09:43:41--  http://data.vision.ee.ethz.ch/cvl/DIV2K/DIV2K_train_LR_bicubic_X2.zip\n",
      "Resolving data.vision.ee.ethz.ch (data.vision.ee.ethz.ch)... 129.132.52.162\n",
      "Connecting to data.vision.ee.ethz.ch (data.vision.ee.ethz.ch)|129.132.52.162|:80... connected.\n",
      "HTTP request sent, awaiting response... 302 Found\n",
      "Location: https://data.vision.ee.ethz.ch/cvl/DIV2K/DIV2K_train_LR_bicubic_X2.zip [following]\n",
      "--2019-07-29 09:43:42--  https://data.vision.ee.ethz.ch/cvl/DIV2K/DIV2K_train_LR_bicubic_X2.zip\n",
      "Connecting to data.vision.ee.ethz.ch (data.vision.ee.ethz.ch)|129.132.52.162|:443... connected.\n",
      "HTTP request sent, awaiting response... 200 OK\n",
      "Length: 925390592 (883M) [application/zip]\n",
      "Saving to: ‘DIV2K_train_LR_bicubic_X2.zip’\n",
      "\n",
      "DIV2K_train_LR_bicu 100%[===================>] 882.52M  10.1MB/s    in 90s     \n",
      "\n",
      "2019-07-29 09:45:12 (9.85 MB/s) - ‘DIV2K_train_LR_bicubic_X2.zip’ saved [925390592/925390592]\n",
      "\n",
      "--2019-07-29 09:45:13--  http://data.vision.ee.ethz.ch/cvl/DIV2K/DIV2K_valid_LR_bicubic_X2.zip\n",
      "Resolving data.vision.ee.ethz.ch (data.vision.ee.ethz.ch)... 129.132.52.162\n",
      "Connecting to data.vision.ee.ethz.ch (data.vision.ee.ethz.ch)|129.132.52.162|:80... connected.\n",
      "HTTP request sent, awaiting response... 302 Found\n",
      "Location: https://data.vision.ee.ethz.ch/cvl/DIV2K/DIV2K_valid_LR_bicubic_X2.zip [following]\n",
      "--2019-07-29 09:45:13--  https://data.vision.ee.ethz.ch/cvl/DIV2K/DIV2K_valid_LR_bicubic_X2.zip\n",
      "Connecting to data.vision.ee.ethz.ch (data.vision.ee.ethz.ch)|129.132.52.162|:443... connected.\n",
      "HTTP request sent, awaiting response... 200 OK\n",
      "Length: 117763600 (112M) [application/zip]\n",
      "Saving to: ‘DIV2K_valid_LR_bicubic_X2.zip’\n",
      "\n",
      "DIV2K_valid_LR_bicu 100%[===================>] 112.31M  9.87MB/s    in 12s     \n",
      "\n",
      "2019-07-29 09:45:25 (9.41 MB/s) - ‘DIV2K_valid_LR_bicubic_X2.zip’ saved [117763600/117763600]\n",
      "\n",
      "--2019-07-29 09:45:26--  http://data.vision.ee.ethz.ch/cvl/DIV2K/DIV2K_train_HR.zip\n",
      "Resolving data.vision.ee.ethz.ch (data.vision.ee.ethz.ch)... 129.132.52.162\n",
      "Connecting to data.vision.ee.ethz.ch (data.vision.ee.ethz.ch)|129.132.52.162|:80... connected.\n",
      "HTTP request sent, awaiting response... 302 Found\n",
      "Location: https://data.vision.ee.ethz.ch/cvl/DIV2K/DIV2K_train_HR.zip [following]\n",
      "--2019-07-29 09:45:27--  https://data.vision.ee.ethz.ch/cvl/DIV2K/DIV2K_train_HR.zip\n",
      "Connecting to data.vision.ee.ethz.ch (data.vision.ee.ethz.ch)|129.132.52.162|:443... connected.\n",
      "HTTP request sent, awaiting response... 200 OK\n",
      "Length: 3530603713 (3.3G) [application/zip]\n",
      "Saving to: ‘DIV2K_train_HR.zip’\n",
      "\n",
      "DIV2K_train_HR.zip   17%[==>                 ] 585.26M  8.98MB/s    eta 4m 56s "
     ]
    }
   ],
   "source": [
    "!wget http://data.vision.ee.ethz.ch/cvl/DIV2K/DIV2K_train_LR_bicubic_X2.zip\n",
    "!wget http://data.vision.ee.ethz.ch/cvl/DIV2K/DIV2K_valid_LR_bicubic_X2.zip\n",
    "!wget http://data.vision.ee.ethz.ch/cvl/DIV2K/DIV2K_train_HR.zip\n",
    "!wget http://data.vision.ee.ethz.ch/cvl/DIV2K/DIV2K_valid_HR.zip"
   ]
  },
  {
   "cell_type": "code",
   "execution_count": 0,
   "metadata": {
    "colab": {},
    "colab_type": "code",
    "id": "CMUgC2k21lC9"
   },
   "outputs": [],
   "source": [
    "!mkdir div2k\n",
    "!unzip -q DIV2K_valid_LR_bicubic_X2.zip -d div2k\n",
    "!unzip -q DIV2K_train_LR_bicubic_X2.zip -d div2k\n",
    "!unzip -q DIV2K_train_HR.zip -d div2k\n",
    "!unzip -q DIV2K_valid_HR.zip -d div2k"
   ]
  },
  {
   "cell_type": "markdown",
   "metadata": {
    "colab_type": "text",
    "id": "LeNFEtJeNKTj"
   },
   "source": [
    "## Create the models\n",
    "Import the models from the ISR package and create\n",
    "\n",
    "- a RRDN super scaling network\n",
    "- a discriminator network for GANs training\n",
    "- a VGG19 feature extractor to train with a perceptual loss function\n",
    "\n",
    "Carefully select\n",
    "- 'x': this is the upscaling factor (2 by default)\n",
    "- 'layers_to_extract': these are the layers from the VGG19 that will be used in the perceptual loss (leave the default if you're not familiar with it)\n",
    "- 'lr_patch_size': this is the size of the patches that will be extracted from the LR images and fed to the ISR network during training time\n",
    "\n",
    "Play around with the other architecture parameters"
   ]
  },
  {
   "cell_type": "code",
   "execution_count": 0,
   "metadata": {
    "colab": {},
    "colab_type": "code",
    "id": "8e2RSZq4BY_T"
   },
   "outputs": [],
   "source": [
    "from ISR.models import RRDN\n",
    "from ISR.models import Discriminator\n",
    "from ISR.models import Cut_VGG19"
   ]
  },
  {
   "cell_type": "code",
   "execution_count": 0,
   "metadata": {
    "colab": {},
    "colab_type": "code",
    "id": "celHq8FjB5vA"
   },
   "outputs": [],
   "source": [
    "lr_train_patch_size = 40\n",
    "layers_to_extract = [5, 9]\n",
    "scale = 2\n",
    "hr_train_patch_size = lr_train_patch_size * scale\n",
    "\n",
    "rrdn  = RRDN(arch_params={'C':4, 'D':3, 'G':64, 'G0':64, 'T':10, 'x':scale}, patch_size=lr_train_patch_size)\n",
    "f_ext = Cut_VGG19(patch_size=hr_train_patch_size, layers_to_extract=layers_to_extract)\n",
    "discr = Discriminator(patch_size=hr_train_patch_size, kernel_size=3)"
   ]
  },
  {
   "cell_type": "markdown",
   "metadata": {
    "colab_type": "text",
    "id": "aaXfv12EPzal"
   },
   "source": [
    "## Give the models to the Trainer\n",
    "The Trainer object will combine the networks, manage your training data and keep you up-to-date with the training progress through Tensorboard and the command line.\n",
    "\n",
    "Here we do not use  the pixel-wise MSE but only the perceptual loss by specifying the respective weights in `loss_weights`"
   ]
  },
  {
   "cell_type": "code",
   "execution_count": 0,
   "metadata": {
    "colab": {},
    "colab_type": "code",
    "id": "6AV0m-s8OaqI"
   },
   "outputs": [],
   "source": [
    "from ISR.train import Trainer\n",
    "loss_weights = {\n",
    "  'generator': 0.0,\n",
    "  'feature_extractor': 0.0833,\n",
    "  'discriminator': 0.01\n",
    "}\n",
    "losses = {\n",
    "  'generator': 'mae',\n",
    "  'feature_extractor': 'mse',\n",
    "  'discriminator': 'binary_crossentropy'\n",
    "} \n",
    "\n",
    "log_dirs = {'logs': './logs', 'weights': './weights'}\n",
    "\n",
    "learning_rate = {'initial_value': 0.0004, 'decay_factor': 0.5, 'decay_frequency': 30}\n",
    "\n",
    "flatness = {'min': 0.0, 'max': 0.15, 'increase': 0.01, 'increase_frequency': 5}\n",
    "\n",
    "trainer = Trainer(\n",
    "    generator=rrdn,\n",
    "    discriminator=discr,\n",
    "    feature_extractor=f_ext,\n",
    "    lr_train_dir='div2k/DIV2K_train_LR_bicubic/X2/',\n",
    "    hr_train_dir='div2k/DIV2K_train_HR/',\n",
    "    lr_valid_dir='div2k/DIV2K_train_LR_bicubic/X2/',\n",
    "    hr_valid_dir='div2k/DIV2K_train_HR/',\n",
    "    loss_weights=loss_weights,\n",
    "    learning_rate=learning_rate,\n",
    "    flatness=flatness,\n",
    "    dataname='div2k',\n",
    "    log_dirs=log_dirs,\n",
    "    weights_generator=None,\n",
    "    weights_discriminator=None,\n",
    "    n_validation=40,\n",
    ")\n"
   ]
  },
  {
   "cell_type": "markdown",
   "metadata": {
    "colab_type": "text",
    "id": "5UpepsY77r5M"
   },
   "source": [
    "Choose epoch number, steps and batch size and start training"
   ]
  },
  {
   "cell_type": "code",
   "execution_count": 0,
   "metadata": {
    "colab": {},
    "colab_type": "code",
    "id": "YnvSnZUa7rA6"
   },
   "outputs": [],
   "source": [
    "trainer.train(\n",
    "    epochs=1,\n",
    "    steps_per_epoch=20,\n",
    "    batch_size=4,\n",
    "    monitored_metrics={'val_PSNR_Y': 'max'}\n",
    ")"
   ]
  }
 ],
 "metadata": {
  "accelerator": "TPU",
  "colab": {
   "name": "Copy of ISR Traininig tutorial.ipynb",
   "provenance": [
    {
     "file_id": "https://github.com/idealo/image-super-resolution/blob/master/notebooks/ISR_Traininig_Tutorial.ipynb",
     "timestamp": 1564393353179
    }
   ],
   "toc_visible": true,
   "version": "0.3.2"
  },
  "kernelspec": {
   "display_name": "Python 3",
   "language": "python",
   "name": "python3"
  },
  "language_info": {
   "codemirror_mode": {
    "name": "ipython",
    "version": 3
   },
   "file_extension": ".py",
   "mimetype": "text/x-python",
   "name": "python",
   "nbconvert_exporter": "python",
   "pygments_lexer": "ipython3",
   "version": "3.7.4"
  }
 },
 "nbformat": 4,
 "nbformat_minor": 1
}
