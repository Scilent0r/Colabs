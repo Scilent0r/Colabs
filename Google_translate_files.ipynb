{
 "cells": [
  {
   "cell_type": "code",
   "execution_count": 27,
   "metadata": {
    "colab": {
     "base_uri": "https://localhost:8080/",
     "height": 118
    },
    "colab_type": "code",
    "executionInfo": {
     "elapsed": 3572,
     "status": "ok",
     "timestamp": 1565158630989,
     "user": {
      "displayName": "Ancient Colors",
      "photoUrl": "",
      "userId": "07486088927151244582"
     },
     "user_tz": -180
    },
    "id": "68pfIOmnkwPk",
    "outputId": "4517b79c-bff7-457e-f15e-b4bfb02ad32c"
   },
   "outputs": [
    {
     "name": "stdout",
     "output_type": "stream",
     "text": [
      "Requirement already satisfied: googletrans in /usr/local/lib/python3.6/dist-packages (2.4.0)\n",
      "Requirement already satisfied: requests in /usr/local/lib/python3.6/dist-packages (from googletrans) (2.21.0)\n",
      "Requirement already satisfied: idna<2.9,>=2.5 in /usr/local/lib/python3.6/dist-packages (from requests->googletrans) (2.8)\n",
      "Requirement already satisfied: urllib3<1.25,>=1.21.1 in /usr/local/lib/python3.6/dist-packages (from requests->googletrans) (1.24.3)\n",
      "Requirement already satisfied: certifi>=2017.4.17 in /usr/local/lib/python3.6/dist-packages (from requests->googletrans) (2019.6.16)\n",
      "Requirement already satisfied: chardet<3.1.0,>=3.0.2 in /usr/local/lib/python3.6/dist-packages (from requests->googletrans) (3.0.4)\n"
     ]
    }
   ],
   "source": [
    "!pip install googletrans"
   ]
  },
  {
   "cell_type": "code",
   "execution_count": 0,
   "metadata": {
    "colab": {},
    "colab_type": "code",
    "id": "sQZckmGDky3Q"
   },
   "outputs": [],
   "source": [
    "from googletrans import Translator\n",
    "translator = Translator()"
   ]
  },
  {
   "cell_type": "code",
   "execution_count": 0,
   "metadata": {
    "colab": {},
    "colab_type": "code",
    "id": "3VTQW1jEky5c"
   },
   "outputs": [],
   "source": [
    "with open(\"/content/pah.txt\") as f:\n",
    "  content = [translator.translate(line, dest='fi').text for line in f]"
   ]
  },
  {
   "cell_type": "code",
   "execution_count": 30,
   "metadata": {
    "colab": {
     "base_uri": "https://localhost:8080/",
     "height": 54
    },
    "colab_type": "code",
    "executionInfo": {
     "elapsed": 639,
     "status": "ok",
     "timestamp": 1565158649836,
     "user": {
      "displayName": "Ancient Colors",
      "photoUrl": "",
      "userId": "07486088927151244582"
     },
     "user_tz": -180
    },
    "id": "r5bPNOpQky7v",
    "outputId": "66f04868-240a-4f27-a21d-357842c6e7db"
   },
   "outputs": [
    {
     "name": "stdout",
     "output_type": "stream",
     "text": [
      "['', 'Itkevät isäni tänään ... ;;;;;;', 'makea päivä! liian mukava tietokoneen näytöille ja kyseisen verkkosivuston kirjaston @Dulcette nimi uudelleen? minun muistini on kauhea ;;;;;;', '@stephenfry, jolla on samanlainen menettely ensi viikolla ;;;;;;', 'Miksi tilaan niin paljon tavaraa ;;;;;;', 'Tänä aamuna heräsin unesta, jossa pikkuveljeni ja minua murhasi salamurhaaja. En löytänyt mitään tappaakseen häntä ;;;;;;', '@stephenfry, se on erittäin surullista. Ei lollipopia? Millainen hirviöhammaslääkäri sinulla on?!?!? ;;;;;;', '@kiphakes http://twitpic.com/3ne7b - missä kakku on? Iloinen, että hänellä on mukava loma viimeinen päivä! xxx ;;;;;;', 'Sadepäivät ja maanannot vievät minut aina alas ;;;;;;', '@ reneebarriault kuulen sinua. Ainakin meillä on säällinen sää viikon ensimmäisellä puoliskolla ;;;;;;', 'Toivon, että viikonloput kulkevat vain silmukassa. Kuka on mukana?!?! Voi mennä takaisin sänkyyn. ;;;;;;', '@jacob_coy Joo, hän saa paljon enemmän rahaa ja apurahoja kuin minäkin! Silti hän käyttää kaiken roskiin, joten maksan ruoasta ja tavaroista * myös * ;;;;;;', 'on töissä ja aurinko paistaa ulkopuolella ;;;;;;', '@IsleofMTV Olen erittäin surullinen coz jb areen tulossa Maltalle, mutta valoisa puoli pidän metroasemalta vähän !!!!! ei voi odottaa mennä !! ;;;;;;', 'Haluan laittaa heidän kappaleensa tänne, mutta en voi! Pelottava 80-luvun rock-musiikki! Setäni vanha bändini! ;;;;;;', 'mitä voin tehdä huomenna? (ajattelu) (: hei. http: //plurk.com/p/p5ueb ;;;;;;;', 'Sairas sairas sairaa niin harmittunut kaikista säämuutoksista !!! ;;;;;;', 'väsynyt väsynyt väsynyt, piti nousta aikaisin lääkäreille tämä olen x ;;;;;;', '@Sportaholic ilmeisesti swiftit saivat muutaman huokaisun. Etelä-afrikkalainen GS, joka teeskentelee olevansa kiivi, pelasi hyvin. ;;;;;;', 'Uhh lento San Franciscoon on kello 18.30, en. Nyt odotan yli varattua lentoa ;;;;;;', 'Kuva: Tyhjä toimisto tänään http: //tumblr.com/xmm1mes35 ;;;;;;', '@KirstyHilton kyllä, niin miksi myös, he nimittivät kemikierroksen DVD-levyn gh-kiertueelle !! Rakastin myös gh-kiertueen tyyliä hyvältä! ;;;;;;', 'Televisio ei käynnisty. Se on uusinnäinen ;;;;;;;', '@isateresa - liity sairaalakerhoon ;;;;;;', 'Nahat tänään. Huono Chris ;;;;;;', '@ commonsense4 Olen hyvin (mutta sain myrkytyksen jälleen viime viikolla!). Voivatko he tehdä mitään lievittää kipua 4 u? Olen niin pahoillani 2 kuulla ;;;;;;', '@rockeye Puhelimeni oli tasainen. ;;;;;;', 'Juuri ostin evästeitä Greggsiltä. Kuiva ja kova. En tiedä voinko ottaa heidät takaisin, koska minulla ei ole kuittia. Rakastan heitä niin. ;;;;;;', '@Cyberela Tunnenko sinua,? ??? ???????? täynnä ???? ?? ??????????????? se osuu teattereihin 9 päivässä tho! Odotan kärsimättömästi !! ;;;;;;', '@stephenfry awwww lyö vetoa surullinen nyt lol ;;;;;;', '@ roycheong1 tai pikemminkin kuolee tai ei. Surullinen tilanne. ;;;;;;', '@ djahne1104 Aina on kesäleiri oikeassa ;;;;;;', '@RealHatter ei, en saanut, satoi. menimme juuri päivälliselle noin 10 muun kanssa ja ystävämme pitivät juhlaa talossaan ;;;;;;', 'seuraa löysä naisia \\u200b\\u200b... erittäin tylsää ;;;;;;', 'Ugh kurkkukipu ;;;;;;', '@FenricWolf Tuulen usein myös alasti, mutta avoimella ikkunassa päätien varrella - en voi tehdä sitä toimistossa ;;;;;;', 'Mielestäni olen allerginen maanantaisin. ;;;;;;', 'täytyy keksiä w / toinen termi faneillemme. AH ei pidä termiä \";;;;;;', '@KittyKatKards OMG ... Olen niin rakastunut tähän. Jos vain äitini olisi enemmän tyttöystävä ;;;;;;', 'Aamu twitterland ... Hyvää freaking maanantai! ;;;;;;', 'ensimmäinen päivä takaisin koulussa. ;;;;;;', 'Internet taas aiheuttaa ongelmia ,,,,, ;;;;;;', 'Ei ole kohtuutonta työskennellä, kun sää on niin hyvä ;;;;;;', 'ajattelemme ottelua pelaamaan, mutta alkaa olla sadetta !! ;;;;;;', \"'Vauva' ei ole enää vauva. 16 tänään. Hänen äitinsä tuntuu vanhalta. ;;;;;;\", 'Aamu Twitterverse! Valmistautuminen pitkään ja sateiseen päivään, melko hullu sää siellä viikonloppuun verrattuna! ;;;;;;', 'Joka kerta kun bussikuljettajani pysähtyy tai hidastaa, vesi tulee ikkunan läpi ja imee minua ;;;;;;', 'elämät aivan loistavat, huonoon kouluun täytyy mennä ja pilata se ensi viikolla! ;;;;;;', 'takaisin yliopistoon ;;;;;;', '@suziperry Häpeä, että he olivat N95-mallista - heidän olisi pitänyt olla Canonini kanssani ;;;;;;', 'On pettynyt jadan albumiin ;;;;;;', '@stephenfry Ugh, joka muistuttaa minua, että minun on todellakin mentävä hammaslääkäriin ... toivon, että he voisivat vain tulla ja tehdä sen unessa ??? ;;;;;;', 'minä vihaan sadetta, haluan ulkona auringossa, mutta en tunnu löytävän sitä ;;;;;;', '@MissTrackwerker tuhlaa aikaa siihen. Ho häntä, kinda piti hänestä myös ;;;;;;', 'takaisin töihin ... valitettavasti ;;;;;;', 'Ugh. Takaisin kouluun. Jee. ;;;;;;', 'Edelleen Hershey Lodgelle PSATS-konferenssiin - jos voin löytää sen ;;;;;;', '@davidm_en Coll. Ironista kyllä, en vielä voi käyttää @tweetieä, koska olen OSX 10.4 ;;;;;;', 'Ei saanut melkein tarpeeksi unta viime yönä ;;;;;;', 'Aww, se imee ;;;;;;', 'sateinen maanantai ;;;;;;', '@guapakitty awh kiitos kaipaisi myös teidät kaikki !! italia oli niin hauskaa! toivotko, että sää olisi siellä parempi ;;;;;;', 'Valmistaudu päiväksi. ;;;;;;', \"Matt le Blanc ei ole ollut missään, koska ystävät spin off 'Joey' vedettiin ;;;;;;\", 'Tarvitsen halauksen. ;;;;;;', 'pääaaaaaaaaaaaaaache ja yskäteet & amp ;;;;;;;', 'on töissä, kunnes vihaan allergioita ;;;;;;;', 'puuttuu kaikki auringonpaiste, jota inhoan työskentelemästä !!!! ;;;;;;', 'surullinen juuri nyt. täytyy jonkun lohduttaa. ;;;;;;', 'Minulla on matematiikkatesti päivään kello 16.00! ;;;;;;', '... antaa luottoa AKT-valtioille ;;;;;;', '@McJayxo JB dont twitter paljon, ja en usko, että Joe haluaa ravistaa hännänsä sulka ;;;;;;', 'mitä tapahtui mukavalle säälle? ;;;;;;', 'Viipaloi peukaloni pää kuoren perunat kuorelle eilen illalla, OUCH! Nukkui kädelläni ilmassa estääkseen sitä rentoutumasta ;;;;;;', 'laske nukkua ... sai vain noin 3 tuntia nukkua ja menee nyt ihanaan kouluun! Voi mitä iloa! ;;;;;;', 'Hyvää huomenta kaikille. Sataa täällä ;;;;;;', '@dnlopez Makaa sängyssä 20 min päivittäin työskentelen ja ajattelen samaa tarkkaa asiaa. Minun täytyy joskus myös ;;;;;;', 'Juuri heräsin. Minun on mentävä ampumaan tänään hyvää syntymäpäivää James & lt ;;;;;;;', 'sisareni, jotka ottivat autoni oppimaan ajamaan sitä, olisi parempi palata takaisin yhtenä kappaleena! ;;;', 'ajattelin, että voisin nukkua ;;;;;;', 'Toivon, että AMD muuttuisi LGA: seen pikemminkin kuin tapien käyttäminen. Moboa on vaikeampi tappaa kuin taivuttaa CPU-tappeja ;;;;;;', '@ryohakkai sanoo nimettömänä ... ehhh twitters julkisesti, jotta he olisivat voineet nähdä vastaukseni ahkerasti sinulle, joten he lisäsivät sinut myös: O ;;;;;;', 'oli juuri saanut maljakulhot keittoa 4 lounasta ... en ole täynnä x ;;;;;;', 'Piti kestää matka asiakirjoihin tänään, hän päätti, että minulla on tonsilliitti. se löi minua, että se on ainoa kerta kun näen nimeni valoissa !!! ;;;;;;', 'sanoo, että thepiratebay on nostettu oikeuteen! tsk tsk http: //plurk.com/p/p5vet ;;;;;;', 'Nouse tämä tylsä \\u200b\\u200bmaanantai mennäkseen kouluun! Tämä imee! ;;;;;;', '@lein_ määränpääanalyysi ... paskiainen asia ... emme voi istua jopa cos ulkopuolella niin en voi nähdä kannettavaa tietokonettasi ;;;;;;', 'Tänään on Columbine-vuosipäivä. ;;;;;;', 'Tarkoitan vain, että jos halusin sen olevan aurinkoista, en olisi asunut Englannissa ;;;;;;', 'http://tr.im/jdJ5 & lt ;;;;;;', 'valitettavasti en tunnu saavani iPhonea iSuperPhone-puhelimeen loistamalla Sonic-ruuvimeisseli siihen, joten mikään galaktien välinen puhelu ei soita minulle. ;;;;;;', 'valmistautuminen luentoon ;;;;;;', '@redeft hei, aloha myös sinulle. Anteeksi, että olin niin äänekäs tässä ... en tarkoittanut olevansa. Väsynyt ja pää sattuu. ;;;;;;', 'Missä maan päällä on katulakaisukone? Minun täytyy kiirehtää kotiin saadakseni vielä 5 minuuttia nukkumaan ;;;;;;', 'Gah - olemme nyt syöksyneet niin paljon Cloveriin, että saamme OutOfMemory-poikkeuksia ;;;;;;', 'ok, nvm pyöreä 2 tänään ... vain purettu kuorma-auto puuta ja ranteeni huusi \";;;;;;', '@McKatrine cool lähetä minulle viesti hyvin i g2g now xD jättäen mac nyt voimme tekstin sijasta xD ;;;;;;', '@VIVA_LA_SUE_SUE yksi päivä, yksi päivä ... kaikki, mitä nyt sain, on kartiomainen saari ;;;;;;', 'Ugh tänään ei tule olemaan hyvä päivä: -x ;;;;;;', 'on hieman pettynyt siihen, ettei enää Lamb Shank maanantaisin ;;;;;;', 'kyllästynyt. ketään verkossa kello 7:48 aamulla ;;;;;;', 'nouse taas kello 4 ;;;;;;;', 'on aloittamassa jonkun muun ammattilaisen kanssa myös todella aurinkoista! ;;;;;;', 'Odotan opettajani. Hän aikoo antaa minulle siteen. Olen loukkaannut itseäni sormella, ja se sattuu! ;;;;;;', '@El_Granto Ei. Tänään on kaikkialla kauhea sää ;;;;;;', 'Wooo on maanantai ... miksi viikonloppu menee aina niin nopeasti? ;;;;;;', 'Tyttöni on sairas. ;;;;;;', 'Toinen sateinen päivä Italiassa ;;;;;;', '@ElHafiz Toivotan .... mutta ei edes GM vaikka babe ... ;;;;;;', 'george on niin suuri, mutta samalla ei niin suuri ;;;;;;', 'Voi luoja. luulenko sataa ;;;;;;', 'Shower.In.Socks. Piano tänään. Jatkan sen vauhdittamista Ole valmis, Dale, sain sen hallitsemaan, ja se on BEAST! (Voin liioitella) ;;;;;;', 'BedtiMe odottaa uutta kauheaa päivää. ;;;;;;', 'Yritän twiittiä OSX: lle. Melko uskomaton käyttöliittymä, mutta ei ryhmiä. Se on yksi ominaisuus, joka saattaa lähettää minut takaisin Nambuun. ;;;;;;', 'Haluan nukkua!!! Okei ... Takaisin töihin ;;;;;;', 'Kärsii, \";;;;;;', '@bloowriter re: & quot ;;;;;;', '@mileycyrus Tiedät miltä sinusta tuntuu kadottamasi äitiäsi! En ole nähnyt minun 9 kuukaudessa Hei btw loistava elokuva ;;;;;;', 'Yhä sairas! En voi uskoa sitä ;;;;;;', '@jemimakiss - kaikki twitter-kettuvalosta yksinkertainen ja helppokäyttöinen .. ei kuitenkaan hakua ;;;;;;', 'Olen uupunut ja en ole valmis päivään. Ja kestää niin kauan kuin !!!! ;;;;;;', '& Quot ;;;;;;', 'takaisin töihin - loma on ohi - ;;;;;;', 'Historialuokassa ;;;;;;', 'Tämä paska on tylsää Missä kaikki ovat? xD XD ;;;;;;', '@ loovely831, joka tekee minusta surullisen ;;;;;;', 'on töissä kaverit! ;;;;;;', '@ofallpieces Haluan mukavasti kisu ... mutta minulla ei ole tilaa. ;;;;;;', '@Fashion_Bug whatta laiska bummm! Awww. Perjantaisin viimeisenä päivänä minulla on puhelin, kesällä ;;;;;;', '@ldncitylights mitä? miksi? ;;;;;;', 'Minua ei voi hukkata menemään kouluun huomenna erittäin pitkän ja tylsän termin noooooooooo! ;;;;;;', 'Hyvää huomenta maailma! Tunnen paskaa, mutta minun on mentävä kouluun! Toivota minulle onnea! ;;;;;;', '@MsLafay Tämä muistuttaa minua siitä, että minun pitää pestä pyykkiä tänään. ;;;;;;', '@ R4isStatic kyllä, mutta olen hampshiressä koko viikonlopun & amp ;;;;;;;', 'Täytyi mennä työttömyystoimistoon kokeilemaan viimeistään koulunkäyntiäni tänä aamuna. MUKAAN, ETTÄ SIJOITTI niin monet työttömät työntekijät surullisiksi ;;;;;;', 'ei tunne liian hyvältä ;;;;;;', '@minorityx siellä oli myös tänä vuonna ;;;;;;', 'pysyä kotona kahden sairaan lapsen kanssa ;;;;;;', '@Jay_F_K im pissed, en löydä iPodiani ;;;;;;', '@cakiiebakiie awkkkkkk ei, meillä on vain kymmenen ohi. sitten meidän on lähdettävä uudestaan. booooo. ;;;;;;', '@markpolchleb Luke-viestisi epäonnistui. ;;;;;;', 'En voi antaa itseni nukahtaa, se on se, miksi im teen tätä eh melkein kouluun älä nukahda inhoan pop, toivon, että minulla olisi peili ;;;;;;', 'tyhmät lentolehtiset !!! lentolehtiset voittivat 6-3 pahoillaan kynää. parempi onni ensi kerralla? u kynät betta whoop der @ $$ seuraavan kerran ;;;;;;', '@TickleMeJoey aww! pahoillani siitä. ;;;;;;', 'Valmistaudu kouluun .... älä wana kävele sateessa ;;;;;;', 'Pahuksen! En voi ottaa kuvaa taivaalta. Huono kamera. Ei mitään eroa!', '@zarathevegan Toimii. Toimituspäivä huomenna. ;;;;;;', 'Ajattelee veristä tyypillistä, että sää on kaunis, nyt hän on jumissa sisätiloissa ;;;;;;', 'Iloinen, että voin vielä muistaa ranskan! Valmistellaan nyt espanjalaisia \\u200b\\u200bkursseja tälle viikolle. Tämä viikko ei ole niin jännittävä kuin viime ;;;;;;', 'Bussissa et halua mennä takaisin kouluun. ;;;;;;', '@BinaryTweedDeej Voi, tervetuloa maailmaan. Olen taistellut tämän ongelman kanssa jo yli viikon. Se ei ole vielä 100% kiinteä vielä ;;;;;;', '4:32 (hitto vain 17 minuuttia jäljellä!) Huokaus * kaipaan myös sinua .. ;;;;;;', '@JewlzInFL Mitä tapahtui Nickin isälle ?? ;;;;;;', '@stalkerh Anteeksi, en tiedä mitään erikoisesta. ;;;;;;', '@ gcn1 Ei, en ole. Käynnissä v.1.1.7, joka oli viimeisin vakaa versio ;;;;;;', '@ Susy412 viileä. Saan maksun perjantaina, joten näen rahani. Voi joutua odottamaan, kunnes laina tulee, on 6 viikkoa seuraavaan palkkaan ;;;;;;', '@bencc ruhroh. Mietitkö, mitä tämä tarkoittaa OpenSolaris + Java -sovellukselle ;;;;;;', '@topsurf Älä edes saa minua alkamaan ajattelemaan höyrytettyjä rapuja. Se on vielä kahden kuukauden päässä ;;;;;;', '@ Kyra028 Hyvä ta. Tänään on todella aurinkoinen, mutta työskentelen myös ;;;;;;', 'OMGggggg ... Olen pitänyt linjaa yli 11 minuuttia nyt. Kuuntelen silti & quot ;;;;;;', 'En saa twitteriä ollenkaan ;;;;;;', 'Tylsää koulussa ilman emily haha. ;;;;;;', 'Todella surullinen, että vauvan saaminen lääketieteellisellä avulla on todella kallista ja on melko rikollista heidän veloittamistaan \\u200b\\u200bhinnoista ;;;;;;', 'Suostuu työskentelemään ;;;;;;', 'Olen menettänyt USB-kamerani kamerastani ja siinä on todella mukava kuva minusta ja pojasta ;;;;;;', 'aamu, kouluun meneminen ja onnen hurmaa syöminen, en todellakaan halua päästä bussiin carzii stalker kaveri ajaa sitä ;;;;;;', 'Toivon, että kun valitset useita kohteita iPhonessa Mail, voit merkitä useita kohteita luetuiksi. ;;;;;;', '@ Hindsight89 Latasin Trillianin ja lisäsin AIM-tiedot. Kun se kirjautui sisään, se ei osoittanut mitään. Uskon edelleen, että AIM vihaa minua. ;;;;;;', 'paras sää, joka meillä on ollut tänään, mutta joudut tekemään ranskaa, tyhmä. haluan mennä ulos ;;;;;;', 'Tyhmä SBB sekoittaa taas Internetiäni ... ;;;;;;', 'Haluan mennä takaisin sänkyyn ;;;;;;', 'Mietitkö mihin tänä viikonloppuna meni? ... kuten joka viikonloppu He kaikki kulkevat liian nopeasti nopeasti ;;;;;;', 'iltapäivällä torkittu ... mutta sai niin monta häitä järjestämään .. en kuitenkaan minun ... ;;;;;;', '@shaundiviney ... dw bub Minulla oli kirkkain yö töissä, koska en ollut siellä! Sinusta olisi ollut mahtavaa rakkautta. Xoxo & lt ;;;;;;', 'Savun palauttaminen LTO: lta kestää tunteja. Estäminen 3895458 ;;;;;;', '@pauldecker Hyvin tehty, olen vaikuttunut..lol. Sinulla ei ehkä ole aurinkoa, mutta sinulla on pussisi. Kaipaan edelleen kaivokseni 2 vuoden jälkeen ;;;;;;', 'Uusi viikko alkaa ;;;;;;', 'Vihaa sitä kaikkia. Mutta puuttuu u. Hardcore. Tule takaisin! ;;;;;;', 'Pahempaa unelmien yötä pitkään ;;;;;;', 'BAck at skool 2morrow cba englanti essee: @: @ ;;;;;;', '@Agent_Red jepi tämä on harrastukseni !! takaisin töihin ensi viikolla ;;;;;;', 'dreading kaiken tästä päivästä. varsinkin kaikki minusta tuleva puhe, joka jatkuu, koska se aina ;;;;;;', 'pois töistä ;;;;;;', 'Harmi, etten hyppää tältä koneelta ;;;;;;', 'Valmistaudu menemään töihin ;;;;;;', '@DirtyA @ työskentele nyt & amp ;;;;;;;', '@ Demi2U Joten emme voi puhua tänään pirun siitä !!!! ;;;;;;', 'Tämän bagelin tunkkainen. ;;;;;;', '@MrJoeHill olen hyvä kiitos joe, kuinka voit? sai liian paljon työtä tekemättä eikä ole nukkunut kovin hyvin tho. miksi u lopettaa 2: lla?! ;;;;;;', '@SpiderxBear Minulla ei ole aavistustakaan, lol tiedän oikein, KOSKAAN VASTUAT VASTAA MEIHIN! Tiedän, että hän ei voi nähdä tätä et ole seurannut minua ainakaan ;;;;;;', 'akustinen neurooma MR: ssäni on 2,2 cm. tunnen tunnottomuutta suun vasemmalla puolella ja joskus päänsärkyä vasemmalla puolella. ;;;;;;', 'Ei nukkunut hyvin. Ollenkaan. ja menee verenkiertoon 8 ° C: ssa ;;;;;;', 'Kuuntelemalla veden toiveita on Pal Tham Jain .. ;;;;;;', 'yritetään selvittää tämän \";;;;;;', 'Toivon, että minulla olisi miljardi dollaria, jotta tämän päivän tweet voisi sanoa jotain \";;;;; \"', 'Uuugh, että migreeni on edelleen päässäni. ;;;;;;', '@AussieMcflyFan liittyä klubiin !! ystäväni eivät edes tunne niitä, eivätkä he edes yritä. haha. hyvin;;;;;;', '@Eric_Chambers @ChubbyGayMan Minusta tuntuu, että minua on ammuttu molemmista harteista ... onko se sama kuin tiukka? ;;;;;;', '@alardw Mikä on kokemuksesi Spotify.com-sivustosta? Hyvä? Olen tutkinut sitä, mutta valitettavasti Sonos.com ei tue sitä vielä ;;;;;;', \"koulussa toivon, etten halua nähdä herra. g Minulla on edelleen kipua vatsassani en halua heidän jättävän sam's my bff ja rakastan kyle & lt ;;;;;;\"]\n"
     ]
    }
   ],
   "source": [
    "#print(content)"
   ]
  },
  {
   "cell_type": "code",
   "execution_count": 0,
   "metadata": {
    "colab": {},
    "colab_type": "code",
    "id": "UUuV_4E2ky_1"
   },
   "outputs": [],
   "source": [
    "file = open(\"/content/testfile22.txt\", \"w\", encoding='utf8')\n",
    "\n",
    "file.write(str(content))\n",
    "\n",
    "file.close()"
   ]
  }
 ],
 "metadata": {
  "colab": {
   "name": "Untitled0.ipynb",
   "provenance": [],
   "version": "0.3.2"
  },
  "kernelspec": {
   "display_name": "Python 3",
   "language": "python",
   "name": "python3"
  },
  "language_info": {
   "codemirror_mode": {
    "name": "ipython",
    "version": 3
   },
   "file_extension": ".py",
   "mimetype": "text/x-python",
   "name": "python",
   "nbconvert_exporter": "python",
   "pygments_lexer": "ipython3",
   "version": "3.7.4"
  }
 },
 "nbformat": 4,
 "nbformat_minor": 1
}
