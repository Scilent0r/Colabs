{
  "nbformat": 4,
  "nbformat_minor": 0,
  "metadata": {
    "kernelspec": {
      "name": "python3",
      "display_name": "Python 3"
    },
    "language_info": {
      "codemirror_mode": {
        "name": "ipython",
        "version": 3
      },
      "file_extension": ".py",
      "mimetype": "text/x-python",
      "name": "python",
      "nbconvert_exporter": "python",
      "pygments_lexer": "ipython3",
      "version": "3.6.4"
    },
    "colab": {
      "name": "H2O-SentimentReviewerApp-GoogleDrive.ipynb",
      "version": "0.3.2",
      "provenance": [],
      "collapsed_sections": [],
      "include_colab_link": true
    },
    "accelerator": "GPU"
  },
  "cells": [
    {
      "cell_type": "markdown",
      "metadata": {
        "id": "view-in-github",
        "colab_type": "text"
      },
      "source": [
        "<a href=\"https://colab.research.google.com/github/Scilent0r/Colabs/blob/master/H2O_SentimentReviewerApp_GoogleDrive.ipynb\" target=\"_parent\"><img src=\"https://colab.research.google.com/assets/colab-badge.svg\" alt=\"Open In Colab\"/></a>"
      ]
    },
    {
      "cell_type": "markdown",
      "metadata": {
        "id": "76lxnbMe3Atj",
        "colab_type": "text"
      },
      "source": [
        "# H2O Sentiment analysis\n",
        "\n",
        "Firstly install and import needed libraries"
      ]
    },
    {
      "cell_type": "code",
      "metadata": {
        "id": "kSwm4qg8a5sQ",
        "colab_type": "code",
        "colab": {}
      },
      "source": [
        "!pip install h2o\n",
        "!pip install pydrive\n",
        "# GoogleDrive\n",
        "import os\n",
        "from pydrive.auth import GoogleAuth\n",
        "from pydrive.drive import GoogleDrive\n",
        "from google.colab import auth\n",
        "from oauth2client.client import GoogleCredentials\n",
        "# H2o\n",
        "import h2o\n",
        "from h2o.estimators.gbm import H2OGradientBoostingEstimator"
      ],
      "execution_count": 0,
      "outputs": []
    },
    {
      "cell_type": "markdown",
      "metadata": {
        "id": "w6waqyWK3O-o",
        "colab_type": "text"
      },
      "source": [
        "# Fetch csv-trainingfile from google. \n",
        "\n",
        "\n",
        "The one used by me in this example is like this: \n",
        "\n",
        "*   \"0\",\"my whole body feels itchy and like its on fire\"\n",
        "*   \"0\",\"@Kwesidei not the whole crew \"\n",
        "*   \"0\",\"Need a hug \"\n",
        "\n",
        "AKA. \"int\",\"str\""
      ]
    },
    {
      "cell_type": "code",
      "metadata": {
        "id": "ZB5BiTT10pQE",
        "colab_type": "code",
        "colab": {}
      },
      "source": [
        "# Auth to Google\n",
        "auth.authenticate_user()\n",
        "gauth = GoogleAuth()\n",
        "gauth.credentials = GoogleCredentials.get_application_default()\n",
        "drive = GoogleDrive(gauth)"
      ],
      "execution_count": 0,
      "outputs": []
    },
    {
      "cell_type": "code",
      "metadata": {
        "id": "hrsHwqRm0xwG",
        "colab_type": "code",
        "colab": {}
      },
      "source": [
        "# Download file\n",
        "download = drive.CreateFile({'id': '1ZYpwdAolJ4tXMAGOT0mkLiqwgXvaOAfA'})\n",
        "download.GetContentFile('100-prod.csv')"
      ],
      "execution_count": 0,
      "outputs": []
    },
    {
      "cell_type": "markdown",
      "metadata": {
        "id": "LxtMMPvr4dQk",
        "colab_type": "text"
      },
      "source": [
        "Init new H2O cluster with xG mem size"
      ]
    },
    {
      "cell_type": "code",
      "metadata": {
        "id": "sYcDaQUYa5sZ",
        "colab_type": "code",
        "outputId": "f7e9f122-d6d9-4630-dff6-bdbac894034d",
        "colab": {
          "base_uri": "https://localhost:8080/",
          "height": 526
        }
      },
      "source": [
        "h2o.init(max_mem_size=\"2G\")"
      ],
      "execution_count": 24,
      "outputs": [
        {
          "output_type": "stream",
          "text": [
            "Checking whether there is an H2O instance running at http://localhost:54321 ..... not found.\n",
            "Attempting to start a local H2O server...\n",
            "  Java Version: openjdk version \"11.0.3\" 2019-04-16; OpenJDK Runtime Environment (build 11.0.3+7-Ubuntu-1ubuntu218.04.1); OpenJDK 64-Bit Server VM (build 11.0.3+7-Ubuntu-1ubuntu218.04.1, mixed mode, sharing)\n",
            "  Starting server from /usr/local/lib/python3.6/dist-packages/h2o/backend/bin/h2o.jar\n",
            "  Ice root: /tmp/tmp7g85uawf\n",
            "  JVM stdout: /tmp/tmp7g85uawf/h2o_unknownUser_started_from_python.out\n",
            "  JVM stderr: /tmp/tmp7g85uawf/h2o_unknownUser_started_from_python.err\n",
            "  Server is running at http://127.0.0.1:54323\n",
            "Connecting to H2O server at http://127.0.0.1:54323 ... successful.\n"
          ],
          "name": "stdout"
        },
        {
          "output_type": "display_data",
          "data": {
            "text/html": [
              "<div style=\"overflow:auto\"><table style=\"width:50%\"><tr><td>H2O cluster uptime:</td>\n",
              "<td>01 secs</td></tr>\n",
              "<tr><td>H2O cluster timezone:</td>\n",
              "<td>Etc/UTC</td></tr>\n",
              "<tr><td>H2O data parsing timezone:</td>\n",
              "<td>UTC</td></tr>\n",
              "<tr><td>H2O cluster version:</td>\n",
              "<td>3.26.0.2</td></tr>\n",
              "<tr><td>H2O cluster version age:</td>\n",
              "<td>13 days </td></tr>\n",
              "<tr><td>H2O cluster name:</td>\n",
              "<td>H2O_from_python_unknownUser_pqyp5d</td></tr>\n",
              "<tr><td>H2O cluster total nodes:</td>\n",
              "<td>1</td></tr>\n",
              "<tr><td>H2O cluster free memory:</td>\n",
              "<td>2 Gb</td></tr>\n",
              "<tr><td>H2O cluster total cores:</td>\n",
              "<td>2</td></tr>\n",
              "<tr><td>H2O cluster allowed cores:</td>\n",
              "<td>2</td></tr>\n",
              "<tr><td>H2O cluster status:</td>\n",
              "<td>accepting new members, healthy</td></tr>\n",
              "<tr><td>H2O connection url:</td>\n",
              "<td>http://127.0.0.1:54323</td></tr>\n",
              "<tr><td>H2O connection proxy:</td>\n",
              "<td>None</td></tr>\n",
              "<tr><td>H2O internal security:</td>\n",
              "<td>False</td></tr>\n",
              "<tr><td>H2O API Extensions:</td>\n",
              "<td>Amazon S3, XGBoost, Algos, AutoML, Core V3, Core V4</td></tr>\n",
              "<tr><td>Python version:</td>\n",
              "<td>3.6.8 final</td></tr></table></div>"
            ],
            "text/plain": [
              "--------------------------  ---------------------------------------------------\n",
              "H2O cluster uptime:         01 secs\n",
              "H2O cluster timezone:       Etc/UTC\n",
              "H2O data parsing timezone:  UTC\n",
              "H2O cluster version:        3.26.0.2\n",
              "H2O cluster version age:    13 days\n",
              "H2O cluster name:           H2O_from_python_unknownUser_pqyp5d\n",
              "H2O cluster total nodes:    1\n",
              "H2O cluster free memory:    2 Gb\n",
              "H2O cluster total cores:    2\n",
              "H2O cluster allowed cores:  2\n",
              "H2O cluster status:         accepting new members, healthy\n",
              "H2O connection url:         http://127.0.0.1:54323\n",
              "H2O connection proxy:\n",
              "H2O internal security:      False\n",
              "H2O API Extensions:         Amazon S3, XGBoost, Algos, AutoML, Core V3, Core V4\n",
              "Python version:             3.6.8 final\n",
              "--------------------------  ---------------------------------------------------"
            ]
          },
          "metadata": {
            "tags": []
          }
        }
      ]
    },
    {
      "cell_type": "markdown",
      "metadata": {
        "id": "-ZauJTaY597J",
        "colab_type": "text"
      },
      "source": [
        "Visualize with Pandas, if OK put it into h2o Frame"
      ]
    },
    {
      "cell_type": "code",
      "metadata": {
        "id": "K8vwsDtQa5sq",
        "colab_type": "code",
        "outputId": "9969e510-6969-44f7-e02b-ae42fc7a89a1",
        "colab": {
          "base_uri": "https://localhost:8080/",
          "height": 272
        }
      },
      "source": [
        "import pandas as pd\n",
        "import numpy as np\n",
        "\n",
        "tsv_file=\"/content/100-prod.csv\"\n",
        "csv_table=pd.read_csv(tsv_file, encoding=\"ISO-8859-1\", header=None, names = [\"Response\", \"Review\"])\n",
        "#csv_table.to_csv('reviews.csv',index=False)\n",
        "\n",
        "print(type(csv_table))\n",
        "csv_table\n",
        "reviews = h2o.h2o.H2OFrame(csv_table)\n",
        "\n",
        "reviews"
      ],
      "execution_count": 26,
      "outputs": [
        {
          "output_type": "stream",
          "text": [
            "<class 'pandas.core.frame.DataFrame'>\n",
            "Parse progress: |█████████████████████████████████████████████████████████| 100%\n"
          ],
          "name": "stdout"
        },
        {
          "output_type": "display_data",
          "data": {
            "text/html": [
              "<table>\n",
              "<thead>\n",
              "<tr><th style=\"text-align: right;\">  Response</th><th>Review                                                                                                          </th></tr>\n",
              "</thead>\n",
              "<tbody>\n",
              "<tr><td style=\"text-align: right;\">         0</td><td>@switchfoot http://twitpic.com/2y1zl - Awww, that's a bummer.  You shoulda got David Carr of Third Day to do it.</td></tr>\n",
              "<tr><td style=\"text-align: right;\">         0</td><td>is upset that he can't update his Facebook by texting it... and might cry as a result  School today also. Blah! </td></tr>\n",
              "<tr><td style=\"text-align: right;\">         0</td><td>@Kenichan I dived many times for the ball. Managed to save 50%  The rest go out of bounds                       </td></tr>\n",
              "<tr><td style=\"text-align: right;\">         0</td><td>my whole body feels itchy and like its on fire                                                                  </td></tr>\n",
              "<tr><td style=\"text-align: right;\">         0</td><td>@nationwideclass no, it's not behaving at all. i'm mad. why am i here? because I can't see you all over there.  </td></tr>\n",
              "<tr><td style=\"text-align: right;\">         0</td><td>@Kwesidei not the whole crew                                                                                    </td></tr>\n",
              "<tr><td style=\"text-align: right;\">         0</td><td>Need a hug                                                                                                      </td></tr>\n",
              "<tr><td style=\"text-align: right;\">         0</td><td>@LOLTrish hey  long time no see! Yes.. Rains a bit ,only a bit  LOL , I'm fine thanks , how's you ?             </td></tr>\n",
              "<tr><td style=\"text-align: right;\">         0</td><td>@Tatiana_K nope they didn't have it                                                                             </td></tr>\n",
              "<tr><td style=\"text-align: right;\">         0</td><td>@twittera que me muera ?                                                                                        </td></tr>\n",
              "</tbody>\n",
              "</table>"
            ]
          },
          "metadata": {
            "tags": []
          }
        },
        {
          "output_type": "execute_result",
          "data": {
            "text/plain": [
              ""
            ]
          },
          "metadata": {
            "tags": []
          },
          "execution_count": 26
        }
      ]
    },
    {
      "cell_type": "markdown",
      "metadata": {
        "id": "5JGkHUh058Vx",
        "colab_type": "text"
      },
      "source": [
        "Count each response"
      ]
    },
    {
      "cell_type": "code",
      "metadata": {
        "id": "znHsrA8Ra5s5",
        "colab_type": "code",
        "outputId": "ea5a209b-8f40-4309-fb81-e8d7c5dcc373",
        "colab": {
          "base_uri": "https://localhost:8080/",
          "height": 78
        }
      },
      "source": [
        "reviews[\"Response\"].table()"
      ],
      "execution_count": 27,
      "outputs": [
        {
          "output_type": "display_data",
          "data": {
            "text/html": [
              "<table>\n",
              "<thead>\n",
              "<tr><th style=\"text-align: right;\">  Response</th><th style=\"text-align: right;\">  Count</th></tr>\n",
              "</thead>\n",
              "<tbody>\n",
              "<tr><td style=\"text-align: right;\">         0</td><td style=\"text-align: right;\">  99782</td></tr>\n",
              "<tr><td style=\"text-align: right;\">         4</td><td style=\"text-align: right;\">  99837</td></tr>\n",
              "</tbody>\n",
              "</table>"
            ]
          },
          "metadata": {
            "tags": []
          }
        },
        {
          "output_type": "execute_result",
          "data": {
            "text/plain": [
              ""
            ]
          },
          "metadata": {
            "tags": []
          },
          "execution_count": 27
        }
      ]
    },
    {
      "cell_type": "markdown",
      "metadata": {
        "id": "l1OATIjP6Ot9",
        "colab_type": "text"
      },
      "source": [
        "Stopwords (if needed)"
      ]
    },
    {
      "cell_type": "code",
      "metadata": {
        "id": "wVraHai0a5tE",
        "colab_type": "code",
        "colab": {}
      },
      "source": [
        "STOP_WORDS = [\"ax\",\"i\",\"you\",\"edu\",\"s\",\"t\",\"m\",\"subject\",\"can\",\"lines\",\"re\",\"what\",\n",
        "               \"there\",\"all\",\"we\",\"one\",\"the\",\"a\",\"an\",\"of\",\"or\",\"in\",\"for\",\"by\",\"on\",\n",
        "               \"but\",\"is\",\"in\",\"a\",\"not\",\"with\",\"as\",\"was\",\"if\",\"they\",\"are\",\"this\",\"and\",\"it\",\"have\",\n",
        "               \"from\",\"at\",\"my\",\"be\",\"by\",\"not\",\"that\",\"to\",\"from\",\"com\",\"org\",\"like\",\"likes\",\"so\"]"
      ],
      "execution_count": 0,
      "outputs": []
    },
    {
      "cell_type": "markdown",
      "metadata": {
        "id": "8lhzMmSC6UQE",
        "colab_type": "text"
      },
      "source": [
        "Tokenize the words"
      ]
    },
    {
      "cell_type": "code",
      "metadata": {
        "id": "xJ_hrfiHa5tL",
        "colab_type": "code",
        "colab": {}
      },
      "source": [
        "\n",
        "def tokenize(sentences, stop_word = STOP_WORDS):\n",
        "    tokenized = sentences.tokenize(\"\\\\W+\")\n",
        "    tokenized_lower = tokenized.tolower()\n",
        "    tokenized_filtered = tokenized_lower[(tokenized_lower.nchar() >= 2) | (tokenized_lower.isna()),:]\n",
        "    tokenized_words = tokenized_filtered[tokenized_filtered.grep(\"[0-9]\",invert=True,output_logical=True),:]\n",
        "    tokenized_words = tokenized_words[(tokenized_words.isna()) | (~ tokenized_words.isin(STOP_WORDS)),:]\n",
        "    return tokenized_words"
      ],
      "execution_count": 0,
      "outputs": []
    },
    {
      "cell_type": "code",
      "metadata": {
        "id": "7hSAnuVha5tU",
        "colab_type": "code",
        "colab": {}
      },
      "source": [
        "words = tokenize(reviews[\"Review\"])\n"
      ],
      "execution_count": 0,
      "outputs": []
    },
    {
      "cell_type": "code",
      "metadata": {
        "scrolled": true,
        "id": "229ZWDXPa5ta",
        "colab_type": "code",
        "colab": {}
      },
      "source": [
        "#words.head()\n"
      ],
      "execution_count": 0,
      "outputs": []
    },
    {
      "cell_type": "markdown",
      "metadata": {
        "id": "s_aIEV4q6dxK",
        "colab_type": "text"
      },
      "source": [
        "Init words2vectors model, vectorize words and define training frame"
      ]
    },
    {
      "cell_type": "code",
      "metadata": {
        "id": "xzCksQZea5td",
        "colab_type": "code",
        "outputId": "9588c260-ba18-4b39-8b3e-f607761b032a",
        "colab": {
          "base_uri": "https://localhost:8080/",
          "height": 34
        }
      },
      "source": [
        "from h2o.estimators.word2vec import H2OWord2vecEstimator\n",
        "\n",
        "\n",
        "w2v_model = H2OWord2vecEstimator(vec_size = 100, model_id = \"w2v.hex\")\n",
        "w2v_model.train(training_frame=words)"
      ],
      "execution_count": 31,
      "outputs": [
        {
          "output_type": "stream",
          "text": [
            "word2vec Model Build progress: |██████████████████████████████████████████| 100%\n"
          ],
          "name": "stdout"
        }
      ]
    },
    {
      "cell_type": "markdown",
      "metadata": {
        "id": "y3MdT4hi62vR",
        "colab_type": "text"
      },
      "source": [
        "Check important synonyms built by the w2v model"
      ]
    },
    {
      "cell_type": "code",
      "metadata": {
        "id": "Th9FKZ3ra5th",
        "colab_type": "code",
        "outputId": "eb2374c9-151b-40bd-913a-37b40306fce4",
        "colab": {
          "base_uri": "https://localhost:8080/",
          "height": 101
        }
      },
      "source": [
        "#w2v_model.find_synonyms(\"good\", count = 5)\n",
        "#w2v_model.find_synonyms(\"bad\", count = 5)\n",
        "#w2v_model.find_synonyms(\"wet\", count = 5)\n",
        "w2v_model.find_synonyms(\"cold\", count = 5)"
      ],
      "execution_count": 64,
      "outputs": [
        {
          "output_type": "execute_result",
          "data": {
            "text/plain": [
              "OrderedDict([('gloomy', 0.7362135052680969),\n",
              "             ('foggy', 0.7273847460746765),\n",
              "             ('chilly', 0.7221243381500244),\n",
              "             ('windy', 0.7189762592315674),\n",
              "             ('freezing', 0.7175003886222839)])"
            ]
          },
          "metadata": {
            "tags": []
          },
          "execution_count": 64
        }
      ]
    },
    {
      "cell_type": "markdown",
      "metadata": {
        "id": "cwUyAYAR7k7S",
        "colab_type": "text"
      },
      "source": [
        "***aggregate_method***\n",
        "\n",
        "Specifies how to aggregate sequences of words. If method is `NONE` then no aggregation is performed and each input word is mapped to a single word-vector. If method is 'AVERAGE' then input is treated as sequences of words delimited by NA. Each word of a sequences is internally mapped to a vector and vectors belonging to the same sentence are averaged and returned in the result."
      ]
    },
    {
      "cell_type": "code",
      "metadata": {
        "id": "5t4x90dga5tk",
        "colab_type": "code",
        "colab": {}
      },
      "source": [
        "review_vecs = w2v_model.transform(words, aggregate_method = \"AVERAGE\")\n"
      ],
      "execution_count": 0,
      "outputs": []
    },
    {
      "cell_type": "markdown",
      "metadata": {
        "id": "F1Ne8TRH76O7",
        "colab_type": "text"
      },
      "source": [
        "Takes a sequence of H2O data sets and combines them by column"
      ]
    },
    {
      "cell_type": "code",
      "metadata": {
        "id": "n1z_t1IBa5tn",
        "colab_type": "code",
        "outputId": "4dd5bbbf-6e41-4a7f-c7e1-05f52afc2959",
        "colab": {
          "base_uri": "https://localhost:8080/",
          "height": 712
        }
      },
      "source": [
        "ext_reviews = reviews.cbind(review_vecs)\n",
        "ext_reviews"
      ],
      "execution_count": 34,
      "outputs": [
        {
          "output_type": "display_data",
          "data": {
            "text/html": [
              "<table>\n",
              "<thead>\n",
              "<tr><th style=\"text-align: right;\">  Response</th><th>Review                                                                                                          </th><th style=\"text-align: right;\">        C1</th><th style=\"text-align: right;\">        C2</th><th style=\"text-align: right;\">        C3</th><th style=\"text-align: right;\">         C4</th><th style=\"text-align: right;\">          C5</th><th style=\"text-align: right;\">        C6</th><th style=\"text-align: right;\">       C7</th><th style=\"text-align: right;\">        C8</th><th style=\"text-align: right;\">        C9</th><th style=\"text-align: right;\">      C10</th><th style=\"text-align: right;\">        C11</th><th style=\"text-align: right;\">       C12</th><th style=\"text-align: right;\">       C13</th><th style=\"text-align: right;\">        C14</th><th style=\"text-align: right;\">       C15</th><th style=\"text-align: right;\">       C16</th><th style=\"text-align: right;\">        C17</th><th style=\"text-align: right;\">       C18</th><th style=\"text-align: right;\">         C19</th><th style=\"text-align: right;\">       C20</th><th style=\"text-align: right;\">       C21</th><th style=\"text-align: right;\">       C22</th><th style=\"text-align: right;\">       C23</th><th style=\"text-align: right;\">         C24</th><th style=\"text-align: right;\">        C25</th><th style=\"text-align: right;\">       C26</th><th style=\"text-align: right;\">        C27</th><th style=\"text-align: right;\">       C28</th><th style=\"text-align: right;\">         C29</th><th style=\"text-align: right;\">       C30</th><th style=\"text-align: right;\">       C31</th><th style=\"text-align: right;\">       C32</th><th style=\"text-align: right;\">       C33</th><th style=\"text-align: right;\">       C34</th><th style=\"text-align: right;\">        C35</th><th style=\"text-align: right;\">        C36</th><th style=\"text-align: right;\">       C37</th><th style=\"text-align: right;\">        C38</th><th style=\"text-align: right;\">        C39</th><th style=\"text-align: right;\">        C40</th><th style=\"text-align: right;\">        C41</th><th style=\"text-align: right;\">       C42</th><th style=\"text-align: right;\">       C43</th><th style=\"text-align: right;\">         C44</th><th style=\"text-align: right;\">        C45</th><th style=\"text-align: right;\">       C46</th><th style=\"text-align: right;\">        C47</th><th style=\"text-align: right;\">       C48</th><th style=\"text-align: right;\">       C49</th><th style=\"text-align: right;\">       C50</th><th style=\"text-align: right;\">         C51</th><th style=\"text-align: right;\">         C52</th><th style=\"text-align: right;\">       C53</th><th style=\"text-align: right;\">       C54</th><th style=\"text-align: right;\">        C55</th><th style=\"text-align: right;\">        C56</th><th style=\"text-align: right;\">        C57</th><th style=\"text-align: right;\">        C58</th><th style=\"text-align: right;\">       C59</th><th style=\"text-align: right;\">        C60</th><th style=\"text-align: right;\">       C61</th><th style=\"text-align: right;\">        C62</th><th style=\"text-align: right;\">       C63</th><th style=\"text-align: right;\">       C64</th><th style=\"text-align: right;\">       C65</th><th style=\"text-align: right;\">       C66</th><th style=\"text-align: right;\">      C67</th><th style=\"text-align: right;\">      C68</th><th style=\"text-align: right;\">      C69</th><th style=\"text-align: right;\">       C70</th><th style=\"text-align: right;\">       C71</th><th style=\"text-align: right;\">         C72</th><th style=\"text-align: right;\">        C73</th><th style=\"text-align: right;\">        C74</th><th style=\"text-align: right;\">       C75</th><th style=\"text-align: right;\">       C76</th><th style=\"text-align: right;\">       C77</th><th style=\"text-align: right;\">        C78</th><th style=\"text-align: right;\">       C79</th><th style=\"text-align: right;\">       C80</th><th style=\"text-align: right;\">       C81</th><th style=\"text-align: right;\">        C82</th><th style=\"text-align: right;\">        C83</th><th style=\"text-align: right;\">       C84</th><th style=\"text-align: right;\">       C85</th><th style=\"text-align: right;\">        C86</th><th style=\"text-align: right;\">       C87</th><th style=\"text-align: right;\">      C88</th><th style=\"text-align: right;\">       C89</th><th style=\"text-align: right;\">        C90</th><th style=\"text-align: right;\">        C91</th><th style=\"text-align: right;\">        C92</th><th style=\"text-align: right;\">       C93</th><th style=\"text-align: right;\">       C94</th><th style=\"text-align: right;\">        C95</th><th style=\"text-align: right;\">        C96</th><th style=\"text-align: right;\">       C97</th><th style=\"text-align: right;\">       C98</th><th style=\"text-align: right;\">       C99</th><th style=\"text-align: right;\">      C100</th></tr>\n",
              "</thead>\n",
              "<tbody>\n",
              "<tr><td style=\"text-align: right;\">         0</td><td>@switchfoot http://twitpic.com/2y1zl - Awww, that's a bummer.  You shoulda got David Carr of Third Day to do it.</td><td style=\"text-align: right;\"> 0.0324234</td><td style=\"text-align: right;\"> 0.184345 </td><td style=\"text-align: right;\">-0.0964382</td><td style=\"text-align: right;\"> 0.0808914 </td><td style=\"text-align: right;\">-0.0561715  </td><td style=\"text-align: right;\">-0.0224877</td><td style=\"text-align: right;\">-0.202611</td><td style=\"text-align: right;\">-0.0543058</td><td style=\"text-align: right;\">-0.08933  </td><td style=\"text-align: right;\">-0.264029</td><td style=\"text-align: right;\">-0.0232042 </td><td style=\"text-align: right;\">-0.0876358</td><td style=\"text-align: right;\"> 0.0414412</td><td style=\"text-align: right;\"> 0.0335294 </td><td style=\"text-align: right;\">-0.279429 </td><td style=\"text-align: right;\"> 0.0544859</td><td style=\"text-align: right;\"> 0.15601   </td><td style=\"text-align: right;\"> 0.0985093</td><td style=\"text-align: right;\"> 0.0153787  </td><td style=\"text-align: right;\">-0.0763027</td><td style=\"text-align: right;\">-0.0280057</td><td style=\"text-align: right;\">-0.264764 </td><td style=\"text-align: right;\">-0.0887908</td><td style=\"text-align: right;\">-0.144672   </td><td style=\"text-align: right;\"> 0.196332  </td><td style=\"text-align: right;\">-0.171364 </td><td style=\"text-align: right;\"> 0.171488  </td><td style=\"text-align: right;\">-0.2652   </td><td style=\"text-align: right;\">-0.0666428  </td><td style=\"text-align: right;\"> 0.0367933</td><td style=\"text-align: right;\"> 0.0622416</td><td style=\"text-align: right;\"> 0.0794091</td><td style=\"text-align: right;\"> 0.0469039</td><td style=\"text-align: right;\">-0.0493582</td><td style=\"text-align: right;\"> 0.0259381 </td><td style=\"text-align: right;\"> 0.0544417 </td><td style=\"text-align: right;\">-0.0841391</td><td style=\"text-align: right;\">-0.113783  </td><td style=\"text-align: right;\">-0.00680823</td><td style=\"text-align: right;\"> 0.0149049 </td><td style=\"text-align: right;\">-0.0350808 </td><td style=\"text-align: right;\">-0.103391 </td><td style=\"text-align: right;\"> 0.119465 </td><td style=\"text-align: right;\">-0.007128   </td><td style=\"text-align: right;\"> 0.0680333 </td><td style=\"text-align: right;\">-0.221496 </td><td style=\"text-align: right;\">-0.0257603 </td><td style=\"text-align: right;\"> 0.0958498</td><td style=\"text-align: right;\"> 0.131913 </td><td style=\"text-align: right;\">-0.096104 </td><td style=\"text-align: right;\"> 0.0621594  </td><td style=\"text-align: right;\">-0.0261155  </td><td style=\"text-align: right;\"> 0.0926609</td><td style=\"text-align: right;\">-0.207674 </td><td style=\"text-align: right;\">-0.0164314 </td><td style=\"text-align: right;\"> 0.0286574 </td><td style=\"text-align: right;\">-0.0428146 </td><td style=\"text-align: right;\"> 0.0909299 </td><td style=\"text-align: right;\">-0.0879975</td><td style=\"text-align: right;\"> 0.129961  </td><td style=\"text-align: right;\"> 0.0288002</td><td style=\"text-align: right;\"> 0.030534  </td><td style=\"text-align: right;\"> 0.136042 </td><td style=\"text-align: right;\">-0.0303538</td><td style=\"text-align: right;\"> 0.0797843</td><td style=\"text-align: right;\">-0.0119439</td><td style=\"text-align: right;\">0.0135192</td><td style=\"text-align: right;\">0.246947 </td><td style=\"text-align: right;\">-0.135681</td><td style=\"text-align: right;\"> 0.113833 </td><td style=\"text-align: right;\"> 0.0135122</td><td style=\"text-align: right;\">-0.117948   </td><td style=\"text-align: right;\"> 0.15983   </td><td style=\"text-align: right;\"> 0.108353  </td><td style=\"text-align: right;\">-0.127675 </td><td style=\"text-align: right;\">-0.0588442</td><td style=\"text-align: right;\"> 0.0402749</td><td style=\"text-align: right;\"> 0.0749673 </td><td style=\"text-align: right;\">-0.114044 </td><td style=\"text-align: right;\"> 0.0165229</td><td style=\"text-align: right;\"> 0.11372  </td><td style=\"text-align: right;\"> 0.00106934</td><td style=\"text-align: right;\"> 0.01886   </td><td style=\"text-align: right;\">-0.132198 </td><td style=\"text-align: right;\">-0.217168 </td><td style=\"text-align: right;\">-0.0619188 </td><td style=\"text-align: right;\"> 0.0481979</td><td style=\"text-align: right;\">0.199629 </td><td style=\"text-align: right;\"> 0.0166934</td><td style=\"text-align: right;\"> 0.130693  </td><td style=\"text-align: right;\"> 0.0122104 </td><td style=\"text-align: right;\"> 0.0125202 </td><td style=\"text-align: right;\"> 0.246927 </td><td style=\"text-align: right;\">-0.0553483</td><td style=\"text-align: right;\"> 0.0203096 </td><td style=\"text-align: right;\">-0.00987175</td><td style=\"text-align: right;\">-0.0910175</td><td style=\"text-align: right;\">-0.0562764</td><td style=\"text-align: right;\"> 0.0738815</td><td style=\"text-align: right;\">-0.192332 </td></tr>\n",
              "<tr><td style=\"text-align: right;\">         0</td><td>is upset that he can't update his Facebook by texting it... and might cry as a result  School today also. Blah! </td><td style=\"text-align: right;\"> 0.119114 </td><td style=\"text-align: right;\"> 0.161993 </td><td style=\"text-align: right;\">-0.0263409</td><td style=\"text-align: right;\">-0.107723  </td><td style=\"text-align: right;\">-0.16317    </td><td style=\"text-align: right;\"> 0.0471828</td><td style=\"text-align: right;\">-0.186893</td><td style=\"text-align: right;\"> 0.0239567</td><td style=\"text-align: right;\"> 0.122171 </td><td style=\"text-align: right;\">-0.357441</td><td style=\"text-align: right;\"> 0.0575543 </td><td style=\"text-align: right;\"> 0.0952125</td><td style=\"text-align: right;\"> 0.157636 </td><td style=\"text-align: right;\"> 0.0548376 </td><td style=\"text-align: right;\">-0.240399 </td><td style=\"text-align: right;\"> 0.0750619</td><td style=\"text-align: right;\"> 0.0107581 </td><td style=\"text-align: right;\"> 0.213059 </td><td style=\"text-align: right;\"> 0.0273526  </td><td style=\"text-align: right;\"> 0.121257 </td><td style=\"text-align: right;\">-0.0488148</td><td style=\"text-align: right;\">-0.0664499</td><td style=\"text-align: right;\">-0.0725868</td><td style=\"text-align: right;\">-0.121801   </td><td style=\"text-align: right;\"> 0.00146178</td><td style=\"text-align: right;\">-0.237202 </td><td style=\"text-align: right;\"> 0.146526  </td><td style=\"text-align: right;\">-0.166679 </td><td style=\"text-align: right;\">-0.0141501  </td><td style=\"text-align: right;\"> 0.0521562</td><td style=\"text-align: right;\"> 0.0649125</td><td style=\"text-align: right;\"> 0.0919125</td><td style=\"text-align: right;\"> 0.0375505</td><td style=\"text-align: right;\">-0.0474481</td><td style=\"text-align: right;\"> 0.0820657 </td><td style=\"text-align: right;\"> 0.0222141 </td><td style=\"text-align: right;\">-0.251481 </td><td style=\"text-align: right;\">-0.062971  </td><td style=\"text-align: right;\"> 0.0519977 </td><td style=\"text-align: right;\">-0.0479504 </td><td style=\"text-align: right;\">-0.110399  </td><td style=\"text-align: right;\">-0.0276384</td><td style=\"text-align: right;\"> 0.0454698</td><td style=\"text-align: right;\">-0.000803937</td><td style=\"text-align: right;\">-0.00442633</td><td style=\"text-align: right;\">-0.0908725</td><td style=\"text-align: right;\"> 0.037216  </td><td style=\"text-align: right;\"> 0.137363 </td><td style=\"text-align: right;\"> 0.0383299</td><td style=\"text-align: right;\"> 0.0194899</td><td style=\"text-align: right;\"> 0.000950841</td><td style=\"text-align: right;\"> 0.0417452  </td><td style=\"text-align: right;\"> 0.105591 </td><td style=\"text-align: right;\">-0.184577 </td><td style=\"text-align: right;\"> 0.0596545 </td><td style=\"text-align: right;\"> 0.140071  </td><td style=\"text-align: right;\"> 0.00320146</td><td style=\"text-align: right;\"> 0.0417772 </td><td style=\"text-align: right;\">-0.0137826</td><td style=\"text-align: right;\"> 0.0543103 </td><td style=\"text-align: right;\">-0.0712367</td><td style=\"text-align: right;\">-0.0939116 </td><td style=\"text-align: right;\"> 0.162942 </td><td style=\"text-align: right;\">-0.0202627</td><td style=\"text-align: right;\"> 0.056214 </td><td style=\"text-align: right;\">-0.0168887</td><td style=\"text-align: right;\">0.162638 </td><td style=\"text-align: right;\">0.110334 </td><td style=\"text-align: right;\">-0.27516 </td><td style=\"text-align: right;\"> 0.137843 </td><td style=\"text-align: right;\">-0.0465623</td><td style=\"text-align: right;\">-0.140487   </td><td style=\"text-align: right;\"> 0.203225  </td><td style=\"text-align: right;\">-0.0429977 </td><td style=\"text-align: right;\">-0.0463258</td><td style=\"text-align: right;\">-0.0799231</td><td style=\"text-align: right;\">-0.0497657</td><td style=\"text-align: right;\"> 0.160697  </td><td style=\"text-align: right;\">-0.147197 </td><td style=\"text-align: right;\"> 0.0488978</td><td style=\"text-align: right;\"> 0.0634878</td><td style=\"text-align: right;\">-0.0488115 </td><td style=\"text-align: right;\"> 0.0567719 </td><td style=\"text-align: right;\">-0.142683 </td><td style=\"text-align: right;\">-0.104094 </td><td style=\"text-align: right;\"> 0.158126  </td><td style=\"text-align: right;\"> 0.0526414</td><td style=\"text-align: right;\">0.102404 </td><td style=\"text-align: right;\">-0.0121396</td><td style=\"text-align: right;\"> 0.117546  </td><td style=\"text-align: right;\">-0.184122  </td><td style=\"text-align: right;\"> 0.042477  </td><td style=\"text-align: right;\"> 0.106106 </td><td style=\"text-align: right;\"> 0.0345667</td><td style=\"text-align: right;\">-0.0398257 </td><td style=\"text-align: right;\">-0.0622481 </td><td style=\"text-align: right;\">-0.0494423</td><td style=\"text-align: right;\">-0.054147 </td><td style=\"text-align: right;\">-0.0431566</td><td style=\"text-align: right;\">-0.118416 </td></tr>\n",
              "<tr><td style=\"text-align: right;\">         0</td><td>@Kenichan I dived many times for the ball. Managed to save 50%  The rest go out of bounds                       </td><td style=\"text-align: right;\"> 0.0910916</td><td style=\"text-align: right;\"> 0.0941506</td><td style=\"text-align: right;\"> 0.018561 </td><td style=\"text-align: right;\">-0.0178202 </td><td style=\"text-align: right;\">-0.174152   </td><td style=\"text-align: right;\">-0.118347 </td><td style=\"text-align: right;\">-0.373247</td><td style=\"text-align: right;\"> 0.0996095</td><td style=\"text-align: right;\">-0.0340383</td><td style=\"text-align: right;\">-0.342132</td><td style=\"text-align: right;\">-0.126374  </td><td style=\"text-align: right;\"> 0.0535202</td><td style=\"text-align: right;\">-0.0458001</td><td style=\"text-align: right;\"> 0.131227  </td><td style=\"text-align: right;\">-0.0941253</td><td style=\"text-align: right;\">-0.144591 </td><td style=\"text-align: right;\">-0.0260202 </td><td style=\"text-align: right;\"> 0.15404  </td><td style=\"text-align: right;\">-0.000677497</td><td style=\"text-align: right;\">-0.0161139</td><td style=\"text-align: right;\">-0.0983184</td><td style=\"text-align: right;\">-0.218332 </td><td style=\"text-align: right;\">-0.0834315</td><td style=\"text-align: right;\">-0.125607   </td><td style=\"text-align: right;\">-0.0852409 </td><td style=\"text-align: right;\">-0.0458936</td><td style=\"text-align: right;\"> 0.158326  </td><td style=\"text-align: right;\">-0.198047 </td><td style=\"text-align: right;\"> 0.000157678</td><td style=\"text-align: right;\"> 0.0678108</td><td style=\"text-align: right;\"> 0.155009 </td><td style=\"text-align: right;\"> 0.109046 </td><td style=\"text-align: right;\"> 0.0193892</td><td style=\"text-align: right;\"> 0.0104393</td><td style=\"text-align: right;\"> 0.0231547 </td><td style=\"text-align: right;\"> 0.131184  </td><td style=\"text-align: right;\">-0.238396 </td><td style=\"text-align: right;\"> 0.0980526 </td><td style=\"text-align: right;\"> 0.06021   </td><td style=\"text-align: right;\">-0.0373987 </td><td style=\"text-align: right;\">-0.125042  </td><td style=\"text-align: right;\"> 0.0204672</td><td style=\"text-align: right;\"> 0.155127 </td><td style=\"text-align: right;\"> 0.00267343 </td><td style=\"text-align: right;\"> 0.236948  </td><td style=\"text-align: right;\">-0.203143 </td><td style=\"text-align: right;\"> 0.00554999</td><td style=\"text-align: right;\"> 0.167547 </td><td style=\"text-align: right;\"> 0.109699 </td><td style=\"text-align: right;\">-0.060998 </td><td style=\"text-align: right;\">-0.00892654 </td><td style=\"text-align: right;\"> 0.00110464 </td><td style=\"text-align: right;\"> 0.123873 </td><td style=\"text-align: right;\">-0.180286 </td><td style=\"text-align: right;\"> 0.0563306 </td><td style=\"text-align: right;\"> 0.0512842 </td><td style=\"text-align: right;\"> 0.158445  </td><td style=\"text-align: right;\"> 0.0742445 </td><td style=\"text-align: right;\">-0.103635 </td><td style=\"text-align: right;\"> 0.0811274 </td><td style=\"text-align: right;\">-0.157933 </td><td style=\"text-align: right;\"> 0.00358202</td><td style=\"text-align: right;\"> 0.103291 </td><td style=\"text-align: right;\">-0.15665  </td><td style=\"text-align: right;\"> 0.0513484</td><td style=\"text-align: right;\"> 0.0317169</td><td style=\"text-align: right;\">0.0316254</td><td style=\"text-align: right;\">0.162846 </td><td style=\"text-align: right;\">-0.320991</td><td style=\"text-align: right;\"> 0.1006   </td><td style=\"text-align: right;\"> 0.129322 </td><td style=\"text-align: right;\">-5.62482e-05</td><td style=\"text-align: right;\"> 0.0340361 </td><td style=\"text-align: right;\"> 0.00560572</td><td style=\"text-align: right;\">-0.0470827</td><td style=\"text-align: right;\"> 0.0420372</td><td style=\"text-align: right;\">-0.0510198</td><td style=\"text-align: right;\">-0.0635523 </td><td style=\"text-align: right;\">-0.0192683</td><td style=\"text-align: right;\"> 0.155756 </td><td style=\"text-align: right;\">-0.0646623</td><td style=\"text-align: right;\">-0.169778  </td><td style=\"text-align: right;\"> 0.0525737 </td><td style=\"text-align: right;\"> 0.0610069</td><td style=\"text-align: right;\">-0.35324  </td><td style=\"text-align: right;\">-0.070855  </td><td style=\"text-align: right;\">-0.0868653</td><td style=\"text-align: right;\">0.118048 </td><td style=\"text-align: right;\">-0.0759614</td><td style=\"text-align: right;\"> 0.227266  </td><td style=\"text-align: right;\"> 0.0463384 </td><td style=\"text-align: right;\"> 0.0940016 </td><td style=\"text-align: right;\"> 0.0175858</td><td style=\"text-align: right;\"> 0.0865577</td><td style=\"text-align: right;\">-0.114933  </td><td style=\"text-align: right;\"> 0.0825462 </td><td style=\"text-align: right;\">-0.0503872</td><td style=\"text-align: right;\">-0.012769 </td><td style=\"text-align: right;\"> 0.0247659</td><td style=\"text-align: right;\">-0.101668 </td></tr>\n",
              "<tr><td style=\"text-align: right;\">         0</td><td>my whole body feels itchy and like its on fire                                                                  </td><td style=\"text-align: right;\"> 0.0322413</td><td style=\"text-align: right;\"> 0.180657 </td><td style=\"text-align: right;\">-0.189659 </td><td style=\"text-align: right;\">-0.00669984</td><td style=\"text-align: right;\">-0.104724   </td><td style=\"text-align: right;\"> 0.0601945</td><td style=\"text-align: right;\">-0.398475</td><td style=\"text-align: right;\"> 0.200432 </td><td style=\"text-align: right;\"> 0.146962 </td><td style=\"text-align: right;\">-0.397333</td><td style=\"text-align: right;\"> 0.222722  </td><td style=\"text-align: right;\"> 0.0671204</td><td style=\"text-align: right;\"> 0.114398 </td><td style=\"text-align: right;\"> 0.0672257 </td><td style=\"text-align: right;\">-0.109625 </td><td style=\"text-align: right;\"> 0.0541644</td><td style=\"text-align: right;\"> 0.173416  </td><td style=\"text-align: right;\"> 0.328845 </td><td style=\"text-align: right;\"> 0.181594   </td><td style=\"text-align: right;\"> 0.0892694</td><td style=\"text-align: right;\"> 0.0959802</td><td style=\"text-align: right;\"> 0.0793112</td><td style=\"text-align: right;\">-0.0052474</td><td style=\"text-align: right;\">-0.0900767  </td><td style=\"text-align: right;\">-0.0689118 </td><td style=\"text-align: right;\"> 0.0525829</td><td style=\"text-align: right;\">-0.0595644 </td><td style=\"text-align: right;\">-0.411776 </td><td style=\"text-align: right;\"> 0.042619   </td><td style=\"text-align: right;\"> 0.032606 </td><td style=\"text-align: right;\"> 0.261732 </td><td style=\"text-align: right;\">-0.0087032</td><td style=\"text-align: right;\">-0.0073788</td><td style=\"text-align: right;\">-0.121466 </td><td style=\"text-align: right;\">-0.174503  </td><td style=\"text-align: right;\">-0.046729  </td><td style=\"text-align: right;\">-0.030671 </td><td style=\"text-align: right;\">-0.133195  </td><td style=\"text-align: right;\"> 0.257977  </td><td style=\"text-align: right;\">-0.088453  </td><td style=\"text-align: right;\">-0.326703  </td><td style=\"text-align: right;\"> 0.0112248</td><td style=\"text-align: right;\"> 0.143318 </td><td style=\"text-align: right;\">-0.0286519  </td><td style=\"text-align: right;\"> 0.143166  </td><td style=\"text-align: right;\"> 0.0354168</td><td style=\"text-align: right;\">-0.012168  </td><td style=\"text-align: right;\">-0.0274894</td><td style=\"text-align: right;\"> 0.13846  </td><td style=\"text-align: right;\"> 0.0226307</td><td style=\"text-align: right;\">-0.00823657 </td><td style=\"text-align: right;\"> 0.108772   </td><td style=\"text-align: right;\"> 0.0879572</td><td style=\"text-align: right;\">-0.215769 </td><td style=\"text-align: right;\">-0.00713821</td><td style=\"text-align: right;\"> 0.00572538</td><td style=\"text-align: right;\"> 0.0782062 </td><td style=\"text-align: right;\"> 0.0142271 </td><td style=\"text-align: right;\">-0.150532 </td><td style=\"text-align: right;\"> 0.187171  </td><td style=\"text-align: right;\">-0.0460645</td><td style=\"text-align: right;\">-0.197673  </td><td style=\"text-align: right;\"> 0.0241246</td><td style=\"text-align: right;\">-0.149879 </td><td style=\"text-align: right;\">-0.207795 </td><td style=\"text-align: right;\">-0.121444 </td><td style=\"text-align: right;\">0.0749179</td><td style=\"text-align: right;\">0.122245 </td><td style=\"text-align: right;\">-0.28145 </td><td style=\"text-align: right;\"> 0.229297 </td><td style=\"text-align: right;\">-0.103378 </td><td style=\"text-align: right;\">-0.197355   </td><td style=\"text-align: right;\">-0.00141804</td><td style=\"text-align: right;\">-0.123727  </td><td style=\"text-align: right;\"> 0.0116908</td><td style=\"text-align: right;\">-0.0548038</td><td style=\"text-align: right;\">-0.124914 </td><td style=\"text-align: right;\">-0.123048  </td><td style=\"text-align: right;\">-0.0749833</td><td style=\"text-align: right;\"> 0.205377 </td><td style=\"text-align: right;\"> 0.0497753</td><td style=\"text-align: right;\">-0.292983  </td><td style=\"text-align: right;\"> 0.12529   </td><td style=\"text-align: right;\">-0.0104071</td><td style=\"text-align: right;\"> 0.110889 </td><td style=\"text-align: right;\">-0.00953703</td><td style=\"text-align: right;\">-0.0502218</td><td style=\"text-align: right;\">0.188895 </td><td style=\"text-align: right;\">-0.149976 </td><td style=\"text-align: right;\">-0.00244907</td><td style=\"text-align: right;\">-0.072464  </td><td style=\"text-align: right;\">-0.0170583 </td><td style=\"text-align: right;\"> 0.0886562</td><td style=\"text-align: right;\"> 0.16039  </td><td style=\"text-align: right;\"> 0.0713216 </td><td style=\"text-align: right;\"> 0.234251  </td><td style=\"text-align: right;\">-0.0769801</td><td style=\"text-align: right;\">-0.262581 </td><td style=\"text-align: right;\"> 0.038386 </td><td style=\"text-align: right;\">-0.107148 </td></tr>\n",
              "<tr><td style=\"text-align: right;\">         0</td><td>@nationwideclass no, it's not behaving at all. i'm mad. why am i here? because I can't see you all over there.  </td><td style=\"text-align: right;\"> 0.0728257</td><td style=\"text-align: right;\"> 0.173141 </td><td style=\"text-align: right;\"> 0.0684117</td><td style=\"text-align: right;\">-0.0937664 </td><td style=\"text-align: right;\">-0.0214058  </td><td style=\"text-align: right;\"> 0.160708 </td><td style=\"text-align: right;\">-0.284296</td><td style=\"text-align: right;\"> 0.175321 </td><td style=\"text-align: right;\">-0.065372 </td><td style=\"text-align: right;\">-0.248311</td><td style=\"text-align: right;\">-0.00760336</td><td style=\"text-align: right;\"> 0.0707751</td><td style=\"text-align: right;\"> 0.0533473</td><td style=\"text-align: right;\"> 0.11914   </td><td style=\"text-align: right;\">-0.200618 </td><td style=\"text-align: right;\"> 0.0474309</td><td style=\"text-align: right;\">-0.0257505 </td><td style=\"text-align: right;\"> 0.0495414</td><td style=\"text-align: right;\"> 0.00149919 </td><td style=\"text-align: right;\">-0.0117657</td><td style=\"text-align: right;\">-0.0647482</td><td style=\"text-align: right;\">-0.137059 </td><td style=\"text-align: right;\">-0.0387611</td><td style=\"text-align: right;\">-0.116177   </td><td style=\"text-align: right;\"> 0.0913717 </td><td style=\"text-align: right;\">-0.0872013</td><td style=\"text-align: right;\"> 0.121458  </td><td style=\"text-align: right;\">-0.263993 </td><td style=\"text-align: right;\"> 0.0208152  </td><td style=\"text-align: right;\"> 0.0837134</td><td style=\"text-align: right;\"> 0.14593  </td><td style=\"text-align: right;\"> 0.0310243</td><td style=\"text-align: right;\">-0.0227355</td><td style=\"text-align: right;\">-0.0117643</td><td style=\"text-align: right;\"> 0.0373116 </td><td style=\"text-align: right;\"> 0.0148863 </td><td style=\"text-align: right;\">-0.234188 </td><td style=\"text-align: right;\">-0.108757  </td><td style=\"text-align: right;\"> 0.217184  </td><td style=\"text-align: right;\">-0.0995997 </td><td style=\"text-align: right;\">-0.111708  </td><td style=\"text-align: right;\">-0.0751221</td><td style=\"text-align: right;\"> 0.144075 </td><td style=\"text-align: right;\"> 0.0847002  </td><td style=\"text-align: right;\"> 0.0486386 </td><td style=\"text-align: right;\"> 0.0474321</td><td style=\"text-align: right;\">-0.055794  </td><td style=\"text-align: right;\"> 0.0280403</td><td style=\"text-align: right;\"> 0.0762164</td><td style=\"text-align: right;\">-0.0892575</td><td style=\"text-align: right;\"> 0.181206   </td><td style=\"text-align: right;\"> 0.000330845</td><td style=\"text-align: right;\"> 0.151054 </td><td style=\"text-align: right;\">-0.273819 </td><td style=\"text-align: right;\">-0.0399022 </td><td style=\"text-align: right;\"> 0.0168441 </td><td style=\"text-align: right;\"> 0.105686  </td><td style=\"text-align: right;\"> 0.0362205 </td><td style=\"text-align: right;\">-0.106152 </td><td style=\"text-align: right;\"> 0.0534857 </td><td style=\"text-align: right;\">-0.137648 </td><td style=\"text-align: right;\"> 0.0617682 </td><td style=\"text-align: right;\"> 0.106552 </td><td style=\"text-align: right;\">-0.078106 </td><td style=\"text-align: right;\">-0.0150068</td><td style=\"text-align: right;\">-0.0857198</td><td style=\"text-align: right;\">0.179956 </td><td style=\"text-align: right;\">0.218048 </td><td style=\"text-align: right;\">-0.264704</td><td style=\"text-align: right;\"> 0.115364 </td><td style=\"text-align: right;\">-0.0694321</td><td style=\"text-align: right;\">-0.124214   </td><td style=\"text-align: right;\"> 0.182634  </td><td style=\"text-align: right;\"> 0.0805517 </td><td style=\"text-align: right;\">-0.0919336</td><td style=\"text-align: right;\"> 0.053144 </td><td style=\"text-align: right;\"> 0.0111013</td><td style=\"text-align: right;\">-0.012027  </td><td style=\"text-align: right;\">-0.0131914</td><td style=\"text-align: right;\"> 0.146548 </td><td style=\"text-align: right;\"> 0.0257101</td><td style=\"text-align: right;\"> 0.0281828 </td><td style=\"text-align: right;\"> 0.0661113 </td><td style=\"text-align: right;\">-0.0912832</td><td style=\"text-align: right;\">-0.122336 </td><td style=\"text-align: right;\"> 0.256607  </td><td style=\"text-align: right;\">-0.0277736</td><td style=\"text-align: right;\">0.0642148</td><td style=\"text-align: right;\">-0.0635086</td><td style=\"text-align: right;\"> 0.0955407 </td><td style=\"text-align: right;\">-0.243386  </td><td style=\"text-align: right;\">-0.0657999 </td><td style=\"text-align: right;\"> 0.031589 </td><td style=\"text-align: right;\"> 0.142338 </td><td style=\"text-align: right;\">-0.0497809 </td><td style=\"text-align: right;\"> 0.00146935</td><td style=\"text-align: right;\"> 0.0788816</td><td style=\"text-align: right;\">-0.023221 </td><td style=\"text-align: right;\">-0.0770117</td><td style=\"text-align: right;\">-0.064336 </td></tr>\n",
              "<tr><td style=\"text-align: right;\">         0</td><td>@Kwesidei not the whole crew                                                                                    </td><td style=\"text-align: right;\">-0.0517546</td><td style=\"text-align: right;\"> 0.08026  </td><td style=\"text-align: right;\">-0.0187677</td><td style=\"text-align: right;\"> 0.259072  </td><td style=\"text-align: right;\"> 0.000856463</td><td style=\"text-align: right;\"> 0.116157 </td><td style=\"text-align: right;\">-0.317857</td><td style=\"text-align: right;\"> 0.143513 </td><td style=\"text-align: right;\"> 0.0546296</td><td style=\"text-align: right;\">-0.312167</td><td style=\"text-align: right;\">-0.153327  </td><td style=\"text-align: right;\"> 0.132066 </td><td style=\"text-align: right;\"> 0.189252 </td><td style=\"text-align: right;\"> 0.257473  </td><td style=\"text-align: right;\">-0.0642032</td><td style=\"text-align: right;\"> 0.207329 </td><td style=\"text-align: right;\"> 0.251708  </td><td style=\"text-align: right;\"> 0.160678 </td><td style=\"text-align: right;\">-0.107498   </td><td style=\"text-align: right;\">-0.242366 </td><td style=\"text-align: right;\">-0.10671  </td><td style=\"text-align: right;\">-0.0474056</td><td style=\"text-align: right;\">-0.013238 </td><td style=\"text-align: right;\"> 0.000283716</td><td style=\"text-align: right;\"> 0.0670147 </td><td style=\"text-align: right;\">-0.157582 </td><td style=\"text-align: right;\"> 0.19853   </td><td style=\"text-align: right;\">-0.262175 </td><td style=\"text-align: right;\"> 0.0362865  </td><td style=\"text-align: right;\"> 0.0964809</td><td style=\"text-align: right;\"> 0.280668 </td><td style=\"text-align: right;\"> 0.0312982</td><td style=\"text-align: right;\"> 0.0481594</td><td style=\"text-align: right;\"> 0.0202212</td><td style=\"text-align: right;\">-0.00193107</td><td style=\"text-align: right;\"> 0.22245   </td><td style=\"text-align: right;\">-0.153283 </td><td style=\"text-align: right;\">-0.0508164 </td><td style=\"text-align: right;\">-0.0387051 </td><td style=\"text-align: right;\">-0.263513  </td><td style=\"text-align: right;\">-0.0563578 </td><td style=\"text-align: right;\">-0.267904 </td><td style=\"text-align: right;\"> 0.047926 </td><td style=\"text-align: right;\"> 0.159166   </td><td style=\"text-align: right;\"> 0.0517213 </td><td style=\"text-align: right;\">-0.25513  </td><td style=\"text-align: right;\"> 0.242419  </td><td style=\"text-align: right;\"> 0.110351 </td><td style=\"text-align: right;\">-0.0112318</td><td style=\"text-align: right;\"> 0.0543424</td><td style=\"text-align: right;\"> 0.00702544 </td><td style=\"text-align: right;\"> 0.244942   </td><td style=\"text-align: right;\">-0.0802171</td><td style=\"text-align: right;\">-0.274203 </td><td style=\"text-align: right;\">-0.0432551 </td><td style=\"text-align: right;\">-0.102411  </td><td style=\"text-align: right;\"> 0.0314884 </td><td style=\"text-align: right;\"> 0.0136793 </td><td style=\"text-align: right;\"> 0.144403 </td><td style=\"text-align: right;\">-0.0326185 </td><td style=\"text-align: right;\">-0.152734 </td><td style=\"text-align: right;\">-0.0350617 </td><td style=\"text-align: right;\"> 0.082065 </td><td style=\"text-align: right;\"> 0.126732 </td><td style=\"text-align: right;\">-0.0127086</td><td style=\"text-align: right;\">-0.0438585</td><td style=\"text-align: right;\">0.16678  </td><td style=\"text-align: right;\">0.0643944</td><td style=\"text-align: right;\">-0.365378</td><td style=\"text-align: right;\"> 0.0500911</td><td style=\"text-align: right;\">-0.294056 </td><td style=\"text-align: right;\">-0.206436   </td><td style=\"text-align: right;\">-0.170395  </td><td style=\"text-align: right;\">-0.140905  </td><td style=\"text-align: right;\">-0.170331 </td><td style=\"text-align: right;\">-0.0384867</td><td style=\"text-align: right;\">-0.274925 </td><td style=\"text-align: right;\"> 0.00434631</td><td style=\"text-align: right;\"> 0.0103603</td><td style=\"text-align: right;\"> 0.0744622</td><td style=\"text-align: right;\">-0.0414832</td><td style=\"text-align: right;\">-0.159973  </td><td style=\"text-align: right;\"> 0.0987953 </td><td style=\"text-align: right;\">-0.127374 </td><td style=\"text-align: right;\">-0.176056 </td><td style=\"text-align: right;\">-0.304492  </td><td style=\"text-align: right;\">-0.0994607</td><td style=\"text-align: right;\">0.149577 </td><td style=\"text-align: right;\"> 0.0600894</td><td style=\"text-align: right;\"> 0.279449  </td><td style=\"text-align: right;\">-0.0472588 </td><td style=\"text-align: right;\"> 0.121456  </td><td style=\"text-align: right;\"> 0.179033 </td><td style=\"text-align: right;\">-0.105628 </td><td style=\"text-align: right;\"> 0.00736331</td><td style=\"text-align: right;\"> 0.0494382 </td><td style=\"text-align: right;\">-0.182628 </td><td style=\"text-align: right;\"> 0.0271806</td><td style=\"text-align: right;\"> 0.0725587</td><td style=\"text-align: right;\">-0.0289783</td></tr>\n",
              "<tr><td style=\"text-align: right;\">         0</td><td>Need a hug                                                                                                      </td><td style=\"text-align: right;\"> 0.229094 </td><td style=\"text-align: right;\">-0.168325 </td><td style=\"text-align: right;\"> 0.443042 </td><td style=\"text-align: right;\">-0.234355  </td><td style=\"text-align: right;\">-0.581863   </td><td style=\"text-align: right;\">-0.0771804</td><td style=\"text-align: right;\">-0.374112</td><td style=\"text-align: right;\">-0.0706748</td><td style=\"text-align: right;\">-0.0306122</td><td style=\"text-align: right;\">-0.330786</td><td style=\"text-align: right;\">-0.129993  </td><td style=\"text-align: right;\">-0.0847169</td><td style=\"text-align: right;\"> 0.108325 </td><td style=\"text-align: right;\">-0.00968953</td><td style=\"text-align: right;\">-0.27877  </td><td style=\"text-align: right;\">-0.140589 </td><td style=\"text-align: right;\">-0.17978   </td><td style=\"text-align: right;\">-0.0638931</td><td style=\"text-align: right;\"> 0.130646   </td><td style=\"text-align: right;\"> 0.076851 </td><td style=\"text-align: right;\">-0.208448 </td><td style=\"text-align: right;\">-0.0502215</td><td style=\"text-align: right;\">-0.164815 </td><td style=\"text-align: right;\">-0.224861   </td><td style=\"text-align: right;\">-0.073384  </td><td style=\"text-align: right;\"> 0.0405282</td><td style=\"text-align: right;\"> 0.109908  </td><td style=\"text-align: right;\">-0.463781 </td><td style=\"text-align: right;\">-0.0862207  </td><td style=\"text-align: right;\">-0.0351001</td><td style=\"text-align: right;\">-0.078058 </td><td style=\"text-align: right;\">-0.0832315</td><td style=\"text-align: right;\"> 0.0245345</td><td style=\"text-align: right;\">-0.140797 </td><td style=\"text-align: right;\"> 0.124728  </td><td style=\"text-align: right;\"> 0.00476813</td><td style=\"text-align: right;\">-0.181573 </td><td style=\"text-align: right;\"> 0.0471193 </td><td style=\"text-align: right;\">-0.00511086</td><td style=\"text-align: right;\">-0.128295  </td><td style=\"text-align: right;\">-0.023572  </td><td style=\"text-align: right;\">-0.0610109</td><td style=\"text-align: right;\">-0.0487885</td><td style=\"text-align: right;\"> 0.40689    </td><td style=\"text-align: right;\"> 0.161549  </td><td style=\"text-align: right;\">-0.232904 </td><td style=\"text-align: right;\"> 0.0956952 </td><td style=\"text-align: right;\"> 0.0794963</td><td style=\"text-align: right;\"> 0.253596 </td><td style=\"text-align: right;\">-0.0725399</td><td style=\"text-align: right;\"> 0.279881   </td><td style=\"text-align: right;\">-0.018304   </td><td style=\"text-align: right;\"> 0.280454 </td><td style=\"text-align: right;\">-0.153576 </td><td style=\"text-align: right;\">-0.271637  </td><td style=\"text-align: right;\"> 0.0508851 </td><td style=\"text-align: right;\">-0.115366  </td><td style=\"text-align: right;\">-0.00747318</td><td style=\"text-align: right;\">-0.310541 </td><td style=\"text-align: right;\"> 0.00650565</td><td style=\"text-align: right;\">-0.0174504</td><td style=\"text-align: right;\">-0.428392  </td><td style=\"text-align: right;\">-0.0795257</td><td style=\"text-align: right;\"> 0.159294 </td><td style=\"text-align: right;\"> 0.16943  </td><td style=\"text-align: right;\">-0.190405 </td><td style=\"text-align: right;\">0.10927  </td><td style=\"text-align: right;\">0.583666 </td><td style=\"text-align: right;\"> 0.209566</td><td style=\"text-align: right;\">-0.158642 </td><td style=\"text-align: right;\">-0.0291593</td><td style=\"text-align: right;\">-0.0397111  </td><td style=\"text-align: right;\">-0.111987  </td><td style=\"text-align: right;\"> 0.0769219 </td><td style=\"text-align: right;\"> 0.0736634</td><td style=\"text-align: right;\">-0.131425 </td><td style=\"text-align: right;\">-0.200256 </td><td style=\"text-align: right;\"> 0.11828   </td><td style=\"text-align: right;\"> 0.0453007</td><td style=\"text-align: right;\"> 0.172415 </td><td style=\"text-align: right;\">-0.0799443</td><td style=\"text-align: right;\"> 0.158819  </td><td style=\"text-align: right;\"> 0.235962  </td><td style=\"text-align: right;\">-0.0226916</td><td style=\"text-align: right;\">-0.178304 </td><td style=\"text-align: right;\"> 0.231148  </td><td style=\"text-align: right;\">-0.126065 </td><td style=\"text-align: right;\">0.183285 </td><td style=\"text-align: right;\">-0.241682 </td><td style=\"text-align: right;\"> 0.171035  </td><td style=\"text-align: right;\">-0.251712  </td><td style=\"text-align: right;\">-0.205297  </td><td style=\"text-align: right;\"> 0.211366 </td><td style=\"text-align: right;\">-0.413498 </td><td style=\"text-align: right;\">-0.240185  </td><td style=\"text-align: right;\"> 0.0892591 </td><td style=\"text-align: right;\">-0.103049 </td><td style=\"text-align: right;\">-0.060404 </td><td style=\"text-align: right;\"> 0.142124 </td><td style=\"text-align: right;\">-0.13136  </td></tr>\n",
              "<tr><td style=\"text-align: right;\">         0</td><td>@LOLTrish hey  long time no see! Yes.. Rains a bit ,only a bit  LOL , I'm fine thanks , how's you ?             </td><td style=\"text-align: right;\"> 0.071556 </td><td style=\"text-align: right;\"> 0.234098 </td><td style=\"text-align: right;\"> 0.104046 </td><td style=\"text-align: right;\">-0.016913  </td><td style=\"text-align: right;\">-0.0978907  </td><td style=\"text-align: right;\"> 0.050287 </td><td style=\"text-align: right;\">-0.207887</td><td style=\"text-align: right;\"> 0.0423691</td><td style=\"text-align: right;\">-0.0709449</td><td style=\"text-align: right;\">-0.288874</td><td style=\"text-align: right;\">-0.0655082 </td><td style=\"text-align: right;\"> 0.0799956</td><td style=\"text-align: right;\">-0.1114   </td><td style=\"text-align: right;\"> 0.0489602 </td><td style=\"text-align: right;\">-0.232053 </td><td style=\"text-align: right;\">-0.0132704</td><td style=\"text-align: right;\"> 0.0530851 </td><td style=\"text-align: right;\"> 0.120197 </td><td style=\"text-align: right;\"> 0.0877514  </td><td style=\"text-align: right;\">-0.0652852</td><td style=\"text-align: right;\">-0.0372859</td><td style=\"text-align: right;\">-0.072962 </td><td style=\"text-align: right;\"> 0.0519134</td><td style=\"text-align: right;\">-0.158718   </td><td style=\"text-align: right;\"> 0.180323  </td><td style=\"text-align: right;\">-0.110034 </td><td style=\"text-align: right;\"> 0.173363  </td><td style=\"text-align: right;\">-0.130649 </td><td style=\"text-align: right;\">-0.0993058  </td><td style=\"text-align: right;\"> 0.11731  </td><td style=\"text-align: right;\"> 0.102743 </td><td style=\"text-align: right;\"> 0.15383  </td><td style=\"text-align: right;\"> 0.0736319</td><td style=\"text-align: right;\"> 0.0563571</td><td style=\"text-align: right;\"> 0.12183   </td><td style=\"text-align: right;\"> 0.0837662 </td><td style=\"text-align: right;\">-0.20343  </td><td style=\"text-align: right;\"> 0.00930202</td><td style=\"text-align: right;\"> 0.0534417 </td><td style=\"text-align: right;\"> 0.00636382</td><td style=\"text-align: right;\">-0.00144161</td><td style=\"text-align: right;\">-0.0543909</td><td style=\"text-align: right;\"> 0.0794825</td><td style=\"text-align: right;\">-0.0348976  </td><td style=\"text-align: right;\"> 0.149033  </td><td style=\"text-align: right;\">-0.0153569</td><td style=\"text-align: right;\"> 0.0259998 </td><td style=\"text-align: right;\"> 0.0508233</td><td style=\"text-align: right;\"> 0.0524819</td><td style=\"text-align: right;\">-0.0922374</td><td style=\"text-align: right;\"> 0.0740433  </td><td style=\"text-align: right;\">-0.00478483 </td><td style=\"text-align: right;\"> 0.164423 </td><td style=\"text-align: right;\">-0.118206 </td><td style=\"text-align: right;\">-0.0551766 </td><td style=\"text-align: right;\"> 0.0295629 </td><td style=\"text-align: right;\"> 0.141086  </td><td style=\"text-align: right;\"> 0.121135  </td><td style=\"text-align: right;\">-0.143574 </td><td style=\"text-align: right;\"> 0.144891  </td><td style=\"text-align: right;\">-0.12671  </td><td style=\"text-align: right;\"> 0.00559018</td><td style=\"text-align: right;\"> 0.0777652</td><td style=\"text-align: right;\">-0.129459 </td><td style=\"text-align: right;\">-0.0207526</td><td style=\"text-align: right;\">-0.1005   </td><td style=\"text-align: right;\">0.144514 </td><td style=\"text-align: right;\">0.318993 </td><td style=\"text-align: right;\">-0.122924</td><td style=\"text-align: right;\"> 0.212664 </td><td style=\"text-align: right;\">-0.106606 </td><td style=\"text-align: right;\">-0.102867   </td><td style=\"text-align: right;\"> 0.159629  </td><td style=\"text-align: right;\"> 0.17802   </td><td style=\"text-align: right;\"> 0.0120867</td><td style=\"text-align: right;\">-0.0131545</td><td style=\"text-align: right;\">-0.0659135</td><td style=\"text-align: right;\"> 0.0553449 </td><td style=\"text-align: right;\"> 0.0321242</td><td style=\"text-align: right;\"> 0.16799  </td><td style=\"text-align: right;\">-0.047685 </td><td style=\"text-align: right;\">-0.0598286 </td><td style=\"text-align: right;\"> 0.00182657</td><td style=\"text-align: right;\">-0.0682669</td><td style=\"text-align: right;\">-0.0427183</td><td style=\"text-align: right;\"> 0.0972143 </td><td style=\"text-align: right;\">-0.0157847</td><td style=\"text-align: right;\">0.104756 </td><td style=\"text-align: right;\">-0.111976 </td><td style=\"text-align: right;\"> 0.166022  </td><td style=\"text-align: right;\">-0.0908402 </td><td style=\"text-align: right;\"> 0.117152  </td><td style=\"text-align: right;\"> 0.123125 </td><td style=\"text-align: right;\">-0.0208095</td><td style=\"text-align: right;\">-0.0229169 </td><td style=\"text-align: right;\">-0.0502207 </td><td style=\"text-align: right;\"> 0.0184868</td><td style=\"text-align: right;\">-0.021218 </td><td style=\"text-align: right;\"> 0.0105731</td><td style=\"text-align: right;\">-0.15895  </td></tr>\n",
              "<tr><td style=\"text-align: right;\">         0</td><td>@Tatiana_K nope they didn't have it                                                                             </td><td style=\"text-align: right;\"> 0.133483 </td><td style=\"text-align: right;\"> 0.254441 </td><td style=\"text-align: right;\">-0.163189 </td><td style=\"text-align: right;\"> 0.151851  </td><td style=\"text-align: right;\">-0.195843   </td><td style=\"text-align: right;\"> 0.264725 </td><td style=\"text-align: right;\">-0.590186</td><td style=\"text-align: right;\"> 0.167949 </td><td style=\"text-align: right;\">-0.053447 </td><td style=\"text-align: right;\">-0.342846</td><td style=\"text-align: right;\">-0.0334644 </td><td style=\"text-align: right;\"> 0.329664 </td><td style=\"text-align: right;\">-0.15217  </td><td style=\"text-align: right;\"> 0.273254  </td><td style=\"text-align: right;\">-0.231486 </td><td style=\"text-align: right;\"> 0.0334826</td><td style=\"text-align: right;\"> 0.00995786</td><td style=\"text-align: right;\">-0.131563 </td><td style=\"text-align: right;\"> 0.11358    </td><td style=\"text-align: right;\">-0.0496136</td><td style=\"text-align: right;\">-0.188066 </td><td style=\"text-align: right;\">-0.14057  </td><td style=\"text-align: right;\">-0.141595 </td><td style=\"text-align: right;\">-0.105098   </td><td style=\"text-align: right;\"> 0.151859  </td><td style=\"text-align: right;\">-0.109295 </td><td style=\"text-align: right;\"> 0.01351   </td><td style=\"text-align: right;\">-0.205975 </td><td style=\"text-align: right;\"> 0.215812   </td><td style=\"text-align: right;\">-0.0849345</td><td style=\"text-align: right;\"> 0.162626 </td><td style=\"text-align: right;\"> 0.0982629</td><td style=\"text-align: right;\"> 0.0546196</td><td style=\"text-align: right;\">-0.0893821</td><td style=\"text-align: right;\"> 0.105633  </td><td style=\"text-align: right;\"> 0.0681715 </td><td style=\"text-align: right;\">-0.29147  </td><td style=\"text-align: right;\">-0.0485346 </td><td style=\"text-align: right;\">-0.00382727</td><td style=\"text-align: right;\"> 0.0271887 </td><td style=\"text-align: right;\"> 0.0669561 </td><td style=\"text-align: right;\">-0.130629 </td><td style=\"text-align: right;\"> 0.280576 </td><td style=\"text-align: right;\">-0.00406375 </td><td style=\"text-align: right;\"> 0.103969  </td><td style=\"text-align: right;\">-0.027144 </td><td style=\"text-align: right;\">-0.125832  </td><td style=\"text-align: right;\">-0.0287729</td><td style=\"text-align: right;\"> 0.0925871</td><td style=\"text-align: right;\"> 0.0382091</td><td style=\"text-align: right;\"> 0.0318217  </td><td style=\"text-align: right;\"> 0.00608078 </td><td style=\"text-align: right;\">-0.0218341</td><td style=\"text-align: right;\">-0.0458908</td><td style=\"text-align: right;\"> 0.179879  </td><td style=\"text-align: right;\"> 0.27725   </td><td style=\"text-align: right;\"> 0.00414866</td><td style=\"text-align: right;\"> 0.286717  </td><td style=\"text-align: right;\">-0.0258026</td><td style=\"text-align: right;\"> 0.183974  </td><td style=\"text-align: right;\">-0.0284277</td><td style=\"text-align: right;\">-0.082684  </td><td style=\"text-align: right;\"> 0.0183296</td><td style=\"text-align: right;\"> 0.0144994</td><td style=\"text-align: right;\">-0.0998827</td><td style=\"text-align: right;\"> 0.195154 </td><td style=\"text-align: right;\">0.121257 </td><td style=\"text-align: right;\">0.221771 </td><td style=\"text-align: right;\">-0.215133</td><td style=\"text-align: right;\"> 0.0195897</td><td style=\"text-align: right;\"> 0.035936 </td><td style=\"text-align: right;\">-0.0513734  </td><td style=\"text-align: right;\"> 0.379807  </td><td style=\"text-align: right;\"> 0.443838  </td><td style=\"text-align: right;\">-0.41056  </td><td style=\"text-align: right;\"> 0.119754 </td><td style=\"text-align: right;\">-0.12129  </td><td style=\"text-align: right;\"> 0.0239115 </td><td style=\"text-align: right;\"> 0.0046309</td><td style=\"text-align: right;\">-0.0261178</td><td style=\"text-align: right;\"> 0.103325 </td><td style=\"text-align: right;\"> 0.00429188</td><td style=\"text-align: right;\"> 0.151544  </td><td style=\"text-align: right;\"> 0.0418735</td><td style=\"text-align: right;\">-0.0818127</td><td style=\"text-align: right;\"> 0.101706  </td><td style=\"text-align: right;\"> 0.141453 </td><td style=\"text-align: right;\">0.0846287</td><td style=\"text-align: right;\"> 0.124993 </td><td style=\"text-align: right;\"> 0.0710304 </td><td style=\"text-align: right;\">-0.0412381 </td><td style=\"text-align: right;\"> 0.00670532</td><td style=\"text-align: right;\"> 0.12099  </td><td style=\"text-align: right;\">-0.0543584</td><td style=\"text-align: right;\">-0.282167  </td><td style=\"text-align: right;\">-0.0248985 </td><td style=\"text-align: right;\"> 0.144954 </td><td style=\"text-align: right;\"> 0.0987496</td><td style=\"text-align: right;\"> 0.197811 </td><td style=\"text-align: right;\">-0.0604883</td></tr>\n",
              "<tr><td style=\"text-align: right;\">         0</td><td>@twittera que me muera ?                                                                                        </td><td style=\"text-align: right;\"> 0.0297535</td><td style=\"text-align: right;\"> 0.329289 </td><td style=\"text-align: right;\">-0.0819104</td><td style=\"text-align: right;\">-0.221726  </td><td style=\"text-align: right;\">-0.0177709  </td><td style=\"text-align: right;\">-0.113505 </td><td style=\"text-align: right;\">-0.232325</td><td style=\"text-align: right;\">-0.0317493</td><td style=\"text-align: right;\"> 0.101278 </td><td style=\"text-align: right;\">-0.344936</td><td style=\"text-align: right;\">-0.102893  </td><td style=\"text-align: right;\"> 0.141314 </td><td style=\"text-align: right;\"> 0.196008 </td><td style=\"text-align: right;\">-0.185339  </td><td style=\"text-align: right;\">-0.326964 </td><td style=\"text-align: right;\">-0.152975 </td><td style=\"text-align: right;\"> 0.212831  </td><td style=\"text-align: right;\">-0.0681603</td><td style=\"text-align: right;\"> 0.156876   </td><td style=\"text-align: right;\">-0.138694 </td><td style=\"text-align: right;\"> 0.161084 </td><td style=\"text-align: right;\"> 0.135238 </td><td style=\"text-align: right;\">-0.196029 </td><td style=\"text-align: right;\">-0.249364   </td><td style=\"text-align: right;\">-0.123387  </td><td style=\"text-align: right;\"> 0.0710111</td><td style=\"text-align: right;\">-0.00693161</td><td style=\"text-align: right;\">-0.0229245</td><td style=\"text-align: right;\">-0.0724943  </td><td style=\"text-align: right;\"> 0.174881 </td><td style=\"text-align: right;\"> 0.14647  </td><td style=\"text-align: right;\"> 0.404109 </td><td style=\"text-align: right;\">-0.0494036</td><td style=\"text-align: right;\">-0.181311 </td><td style=\"text-align: right;\">-0.0143391 </td><td style=\"text-align: right;\"> 0.151302  </td><td style=\"text-align: right;\">-0.129109 </td><td style=\"text-align: right;\">-0.095208  </td><td style=\"text-align: right;\"> 0.031855  </td><td style=\"text-align: right;\">-0.0786379 </td><td style=\"text-align: right;\">-0.035271  </td><td style=\"text-align: right;\">-0.126349 </td><td style=\"text-align: right;\">-0.054717 </td><td style=\"text-align: right;\"> 0.0599328  </td><td style=\"text-align: right;\"> 0.0579548 </td><td style=\"text-align: right;\">-0.168293 </td><td style=\"text-align: right;\">-0.0316001 </td><td style=\"text-align: right;\"> 0.147789 </td><td style=\"text-align: right;\"> 0.559668 </td><td style=\"text-align: right;\"> 0.0735399</td><td style=\"text-align: right;\"> 0.108195   </td><td style=\"text-align: right;\"> 0.176785   </td><td style=\"text-align: right;\"> 0.148284 </td><td style=\"text-align: right;\">-0.109449 </td><td style=\"text-align: right;\">-0.250949  </td><td style=\"text-align: right;\">-0.178798  </td><td style=\"text-align: right;\">-0.0295149 </td><td style=\"text-align: right;\"> 0.0753192 </td><td style=\"text-align: right;\"> 0.210004 </td><td style=\"text-align: right;\"> 0.0282235 </td><td style=\"text-align: right;\"> 0.118819 </td><td style=\"text-align: right;\"> 0.0795983 </td><td style=\"text-align: right;\"> 0.175133 </td><td style=\"text-align: right;\"> 0.172683 </td><td style=\"text-align: right;\"> 0.0981262</td><td style=\"text-align: right;\"> 0.204641 </td><td style=\"text-align: right;\">0.244827 </td><td style=\"text-align: right;\">0.143019 </td><td style=\"text-align: right;\">-0.256418</td><td style=\"text-align: right;\"> 0.0911265</td><td style=\"text-align: right;\">-0.250404 </td><td style=\"text-align: right;\">-0.0948323  </td><td style=\"text-align: right;\"> 0.0657552 </td><td style=\"text-align: right;\">-0.0534183 </td><td style=\"text-align: right;\"> 0.0477778</td><td style=\"text-align: right;\">-0.227556 </td><td style=\"text-align: right;\">-0.0554565</td><td style=\"text-align: right;\"> 0.0786215 </td><td style=\"text-align: right;\"> 0.147798 </td><td style=\"text-align: right;\"> 0.271627 </td><td style=\"text-align: right;\"> 0.133288 </td><td style=\"text-align: right;\"> 0.0776226 </td><td style=\"text-align: right;\">-0.100078  </td><td style=\"text-align: right;\">-0.012603 </td><td style=\"text-align: right;\"> 0.0254476</td><td style=\"text-align: right;\"> 0.198514  </td><td style=\"text-align: right;\"> 0.137145 </td><td style=\"text-align: right;\">0.0230308</td><td style=\"text-align: right;\"> 0.203007 </td><td style=\"text-align: right;\"> 0.10202   </td><td style=\"text-align: right;\">-0.00818976</td><td style=\"text-align: right;\">-0.231911  </td><td style=\"text-align: right;\">-0.133857 </td><td style=\"text-align: right;\"> 0.118784 </td><td style=\"text-align: right;\">-0.099838  </td><td style=\"text-align: right;\"> 0.0831619 </td><td style=\"text-align: right;\">-0.236449 </td><td style=\"text-align: right;\">-0.0297257</td><td style=\"text-align: right;\">-0.187433 </td><td style=\"text-align: right;\"> 0.213459 </td></tr>\n",
              "</tbody>\n",
              "</table>"
            ]
          },
          "metadata": {
            "tags": []
          }
        },
        {
          "output_type": "execute_result",
          "data": {
            "text/plain": [
              ""
            ]
          },
          "metadata": {
            "tags": []
          },
          "execution_count": 34
        }
      ]
    },
    {
      "cell_type": "markdown",
      "metadata": {
        "id": "c0pf0UfR8GIl",
        "colab_type": "text"
      },
      "source": [
        "Split to train and test sets"
      ]
    },
    {
      "cell_type": "code",
      "metadata": {
        "id": "i6OXGrY6a5tq",
        "colab_type": "code",
        "colab": {}
      },
      "source": [
        "data_split = ext_reviews.split_frame(ratios=[0.8])\n",
        "\n",
        "ext_train = data_split[0]\n",
        "ext_test = data_split[1]\n",
        "\n",
        "#obsolete?"
      ],
      "execution_count": 0,
      "outputs": []
    },
    {
      "cell_type": "markdown",
      "metadata": {
        "id": "Io_dOMnO8Y7x",
        "colab_type": "text"
      },
      "source": [
        "**Build GBM-model**\n",
        "\n",
        "Gradient Boosting Machine (for Regression and Classification) is a forward learning ensemble method. The guiding heuristic is that good predictive results can be obtained through increasingly refined approximations. H2O’s GBM sequentially builds regression trees on all the features of the dataset in a fully distributed way - each tree is built in parallel."
      ]
    },
    {
      "cell_type": "code",
      "metadata": {
        "id": "n7sbWB6oa5tw",
        "colab_type": "code",
        "outputId": "56f01362-6887-4460-cd0e-587073257777",
        "colab": {
          "base_uri": "https://localhost:8080/",
          "height": 50
        }
      },
      "source": [
        "print(\"Build a basic GBM model\")\n",
        "gbm_model = H2OGradientBoostingEstimator()\n",
        "gbm_model.train(x = ext_reviews.names,\n",
        "                y=\"Response\", \n",
        "                training_frame = data_split[0], \n",
        "                validation_frame = data_split[1])"
      ],
      "execution_count": 36,
      "outputs": [
        {
          "output_type": "stream",
          "text": [
            "Build a basic GBM model\n",
            "gbm Model Build progress: |███████████████████████████████████████████████| 100%\n"
          ],
          "name": "stdout"
        }
      ]
    },
    {
      "cell_type": "markdown",
      "metadata": {
        "id": "tZlJZ4PK8se9",
        "colab_type": "text"
      },
      "source": [
        "Build predictor"
      ]
    },
    {
      "cell_type": "code",
      "metadata": {
        "id": "7M4Aq-Sja5tz",
        "colab_type": "code",
        "colab": {}
      },
      "source": [
        "def predict(job_title,w2v, gbm):\n",
        "    words = tokenize(h2o.H2OFrame(job_title).ascharacter())\n",
        "    job_title_vec = w2v.transform(words, aggregate_method=\"AVERAGE\")\n",
        "    print(gbm.predict(test_data=job_title_vec))"
      ],
      "execution_count": 0,
      "outputs": []
    },
    {
      "cell_type": "markdown",
      "metadata": {
        "id": "XafX11jD8uND",
        "colab_type": "text"
      },
      "source": [
        "Run predictions"
      ]
    },
    {
      "cell_type": "code",
      "metadata": {
        "id": "uVT_PCG8a5t1",
        "colab_type": "code",
        "outputId": "90216f02-82f7-4636-92c9-b187716fc3f0",
        "colab": {
          "base_uri": "https://localhost:8080/",
          "height": 126
        }
      },
      "source": [
        "print(predict([\"a huge selection\"], w2v_model, gbm_model))\n",
        "print(predict([\"RIP in pepperonis\"], w2v_model, gbm_model))\n",
        "print(predict([\"very nice idea\"], w2v_model, gbm_model))\n",
        "print(predict([\"i am so sad about this\"], w2v_model, gbm_model))\n"
      ],
      "execution_count": 58,
      "outputs": [
        {
          "output_type": "stream",
          "text": [
            "Parse progress: |█████████████████████████████████████████████████████████| 100%\n",
            "gbm prediction progress: |████████████████████████████████████████████████| 100%\n"
          ],
          "name": "stdout"
        },
        {
          "output_type": "display_data",
          "data": {
            "text/html": [
              "<table>\n",
              "<thead>\n",
              "<tr><th style=\"text-align: right;\">  predict</th></tr>\n",
              "</thead>\n",
              "<tbody>\n",
              "<tr><td style=\"text-align: right;\"> 0.338238</td></tr>\n",
              "</tbody>\n",
              "</table>"
            ]
          },
          "metadata": {
            "tags": []
          }
        },
        {
          "output_type": "stream",
          "text": [
            "\n",
            "None\n"
          ],
          "name": "stdout"
        }
      ]
    },
    {
      "cell_type": "markdown",
      "metadata": {
        "id": "Bchb-D6x84Ix",
        "colab_type": "text"
      },
      "source": [
        "Check variable importance: \n",
        "\n",
        "http://docs.h2o.ai/h2o/latest-stable/h2o-docs/variable-importance.html"
      ]
    },
    {
      "cell_type": "code",
      "metadata": {
        "id": "WR3fO9Pga5t5",
        "colab_type": "code",
        "outputId": "2288d645-c3ae-42f3-c646-1353ce8e871a",
        "colab": {
          "base_uri": "https://localhost:8080/",
          "height": 612
        }
      },
      "source": [
        "plt=gbm_model.varimp_plot()\n"
      ],
      "execution_count": 39,
      "outputs": [
        {
          "output_type": "display_data",
          "data": {
            "image/png": "[encoded data removed]",
            "text/plain": [
              "<Figure size 1008x720 with 1 Axes>"
            ]
          },
          "metadata": {
            "tags": []
          }
        }
      ]
    },
    {
      "cell_type": "markdown",
      "metadata": {
        "id": "OMVkHHnj8-LI",
        "colab_type": "text"
      },
      "source": [
        "**In case you want to save your model:**\n",
        "\n",
        "*model_path = h2o.save_model(model=gbm_model, path=\"/content\", force=True)*\n",
        "*print(model_path)*\n",
        "\n",
        "**In case you want to load your model:**\n",
        "\n",
        "*saved_model = h2o.load_model(path=\"/content/GBM_model_python_1565343002584_1\")*\n",
        "*print(saved_model)*"
      ]
    }
  ]
}